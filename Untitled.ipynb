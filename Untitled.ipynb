{
 "cells": [
  {
   "cell_type": "code",
   "execution_count": 93,
   "id": "f0a37f87-7c7c-4503-bc2f-a2069c7e09d9",
   "metadata": {},
   "outputs": [
    {
     "name": "stderr",
     "output_type": "stream",
     "text": [
      "/Users/taniguchiyuujin/Desktop/sidejob/twitter_block_searches.py:36: DeprecationWarning: executable_path has been deprecated, please pass in a Service object\n",
      "  \n"
     ]
    },
    {
     "name": "stdout",
     "output_type": "stream",
     "text": [
      "一つ目\n",
      "https://twitter.com/explore\n",
      "1回ブロックしました\n",
      "2回ブロックしました\n",
      "3回ブロックしました\n",
      "4回ブロックしました\n",
      "5回ブロックしました\n",
      "6回ブロックしました\n",
      "7回ブロックしました\n",
      "8回ブロックしました\n"
     ]
    },
    {
     "ename": "NoSuchElementException",
     "evalue": "Message: no such element: Unable to locate element: {\"method\":\"xpath\",\"selector\":\"/html/body/div[1]/div/div/div[2]/main/div/div/div/div/div/div[1]/div[1]/div[1]/div/div/div/div/div[1]/div[2]/div/div/div/form/div[1]/div/div/div/label/div[2]/div/input\"}\n  (Session info: chrome=105.0.5195.125)\nStacktrace:\n0   chromedriver                        0x00000001101cc788 chromedriver + 4515720\n1   chromedriver                        0x00000001101509d3 chromedriver + 4008403\n2   chromedriver                        0x000000010fde312a chromedriver + 413994\n3   chromedriver                        0x000000010fe1a873 chromedriver + 641139\n4   chromedriver                        0x000000010fe1aa61 chromedriver + 641633\n5   chromedriver                        0x000000010fe4cf64 chromedriver + 847716\n6   chromedriver                        0x000000010fe377fd chromedriver + 759805\n7   chromedriver                        0x000000010fe4abd9 chromedriver + 838617\n8   chromedriver                        0x000000010fe37603 chromedriver + 759299\n9   chromedriver                        0x000000010fe0d990 chromedriver + 588176\n10  chromedriver                        0x000000010fe0ea75 chromedriver + 592501\n11  chromedriver                        0x000000011019c6cd chromedriver + 4318925\n12  chromedriver                        0x00000001101a0f35 chromedriver + 4337461\n13  chromedriver                        0x00000001101a81ff chromedriver + 4366847\n14  chromedriver                        0x00000001101a1c5a chromedriver + 4340826\n15  chromedriver                        0x0000000110177c2c chromedriver + 4168748\n16  chromedriver                        0x00000001101be4f8 chromedriver + 4457720\n17  chromedriver                        0x00000001101be693 chromedriver + 4458131\n18  chromedriver                        0x00000001101d3a3e chromedriver + 4545086\n19  libsystem_pthread.dylib             0x00007fff206108fc _pthread_start + 224\n20  libsystem_pthread.dylib             0x00007fff2060c443 thread_start + 15\n",
     "output_type": "error",
     "traceback": [
      "\u001b[0;31m---------------------------------------------------------------------------\u001b[0m",
      "\u001b[0;31mNoSuchElementException\u001b[0m                    Traceback (most recent call last)",
      "File \u001b[0;32m~/Desktop/sidejob/twitter_block_searches.py:136\u001b[0m, in \u001b[0;36m<module>\u001b[0;34m\u001b[0m\n\u001b[1;32m    133\u001b[0m     time\u001b[38;5;241m.\u001b[39msleep(\u001b[38;5;241m1\u001b[39m)\n\u001b[1;32m    135\u001b[0m \u001b[38;5;66;03m# search_input = driver.find_element_by_xpath(\"/html/body/div[1]/div/div/div[2]/main/div/div/div/div/div/div[1]/div[1]/div/div/div/div/div[2]/div[2]/div/div/div/form/div[1]/div/div/label/div[2]/div/input\")\u001b[39;00m\n\u001b[0;32m--> 136\u001b[0m search_input \u001b[38;5;241m=\u001b[39m \u001b[43mdriver\u001b[49m\u001b[38;5;241;43m.\u001b[39;49m\u001b[43mfind_element\u001b[49m\u001b[43m(\u001b[49m\u001b[43mBy\u001b[49m\u001b[38;5;241;43m.\u001b[39;49m\u001b[43mXPATH\u001b[49m\u001b[43m,\u001b[49m\u001b[38;5;124;43m\"\u001b[39;49m\u001b[38;5;124;43m/html/body/div[1]/div/div/div[2]/main/div/div/div/div/div/div[1]/div[1]/div[1]/div/div/div/div/div[1]/div[2]/div/div/div/form/div[1]/div/div/div/label/div[2]/div/input\u001b[39;49m\u001b[38;5;124;43m\"\u001b[39;49m\u001b[43m)\u001b[49m\n\u001b[1;32m    137\u001b[0m search_input\u001b[38;5;241m.\u001b[39msend_keys(keys\u001b[38;5;241m.\u001b[39mENTER)\n",
      "File \u001b[0;32m~/.pyenv/versions/3.10.0/lib/python3.10/site-packages/selenium/webdriver/remote/webdriver.py:1244\u001b[0m, in \u001b[0;36mWebDriver.find_element\u001b[0;34m(self, by, value)\u001b[0m\n\u001b[1;32m   1241\u001b[0m     by \u001b[38;5;241m=\u001b[39m By\u001b[38;5;241m.\u001b[39mCSS_SELECTOR\n\u001b[1;32m   1242\u001b[0m     value \u001b[38;5;241m=\u001b[39m \u001b[38;5;124m'\u001b[39m\u001b[38;5;124m[name=\u001b[39m\u001b[38;5;124m\"\u001b[39m\u001b[38;5;132;01m%s\u001b[39;00m\u001b[38;5;124m\"\u001b[39m\u001b[38;5;124m]\u001b[39m\u001b[38;5;124m'\u001b[39m \u001b[38;5;241m%\u001b[39m value\n\u001b[0;32m-> 1244\u001b[0m \u001b[38;5;28;01mreturn\u001b[39;00m \u001b[38;5;28;43mself\u001b[39;49m\u001b[38;5;241;43m.\u001b[39;49m\u001b[43mexecute\u001b[49m\u001b[43m(\u001b[49m\u001b[43mCommand\u001b[49m\u001b[38;5;241;43m.\u001b[39;49m\u001b[43mFIND_ELEMENT\u001b[49m\u001b[43m,\u001b[49m\u001b[43m \u001b[49m\u001b[43m{\u001b[49m\n\u001b[1;32m   1245\u001b[0m \u001b[43m    \u001b[49m\u001b[38;5;124;43m'\u001b[39;49m\u001b[38;5;124;43musing\u001b[39;49m\u001b[38;5;124;43m'\u001b[39;49m\u001b[43m:\u001b[49m\u001b[43m \u001b[49m\u001b[43mby\u001b[49m\u001b[43m,\u001b[49m\n\u001b[1;32m   1246\u001b[0m \u001b[43m    \u001b[49m\u001b[38;5;124;43m'\u001b[39;49m\u001b[38;5;124;43mvalue\u001b[39;49m\u001b[38;5;124;43m'\u001b[39;49m\u001b[43m:\u001b[49m\u001b[43m \u001b[49m\u001b[43mvalue\u001b[49m\u001b[43m}\u001b[49m\u001b[43m)\u001b[49m[\u001b[38;5;124m'\u001b[39m\u001b[38;5;124mvalue\u001b[39m\u001b[38;5;124m'\u001b[39m]\n",
      "File \u001b[0;32m~/.pyenv/versions/3.10.0/lib/python3.10/site-packages/selenium/webdriver/remote/webdriver.py:424\u001b[0m, in \u001b[0;36mWebDriver.execute\u001b[0;34m(self, driver_command, params)\u001b[0m\n\u001b[1;32m    422\u001b[0m response \u001b[38;5;241m=\u001b[39m \u001b[38;5;28mself\u001b[39m\u001b[38;5;241m.\u001b[39mcommand_executor\u001b[38;5;241m.\u001b[39mexecute(driver_command, params)\n\u001b[1;32m    423\u001b[0m \u001b[38;5;28;01mif\u001b[39;00m response:\n\u001b[0;32m--> 424\u001b[0m     \u001b[38;5;28;43mself\u001b[39;49m\u001b[38;5;241;43m.\u001b[39;49m\u001b[43merror_handler\u001b[49m\u001b[38;5;241;43m.\u001b[39;49m\u001b[43mcheck_response\u001b[49m\u001b[43m(\u001b[49m\u001b[43mresponse\u001b[49m\u001b[43m)\u001b[49m\n\u001b[1;32m    425\u001b[0m     response[\u001b[38;5;124m'\u001b[39m\u001b[38;5;124mvalue\u001b[39m\u001b[38;5;124m'\u001b[39m] \u001b[38;5;241m=\u001b[39m \u001b[38;5;28mself\u001b[39m\u001b[38;5;241m.\u001b[39m_unwrap_value(\n\u001b[1;32m    426\u001b[0m         response\u001b[38;5;241m.\u001b[39mget(\u001b[38;5;124m'\u001b[39m\u001b[38;5;124mvalue\u001b[39m\u001b[38;5;124m'\u001b[39m, \u001b[38;5;28;01mNone\u001b[39;00m))\n\u001b[1;32m    427\u001b[0m     \u001b[38;5;28;01mreturn\u001b[39;00m response\n",
      "File \u001b[0;32m~/.pyenv/versions/3.10.0/lib/python3.10/site-packages/selenium/webdriver/remote/errorhandler.py:247\u001b[0m, in \u001b[0;36mErrorHandler.check_response\u001b[0;34m(self, response)\u001b[0m\n\u001b[1;32m    245\u001b[0m         alert_text \u001b[38;5;241m=\u001b[39m value[\u001b[38;5;124m'\u001b[39m\u001b[38;5;124malert\u001b[39m\u001b[38;5;124m'\u001b[39m]\u001b[38;5;241m.\u001b[39mget(\u001b[38;5;124m'\u001b[39m\u001b[38;5;124mtext\u001b[39m\u001b[38;5;124m'\u001b[39m)\n\u001b[1;32m    246\u001b[0m     \u001b[38;5;28;01mraise\u001b[39;00m exception_class(message, screen, stacktrace, alert_text)  \u001b[38;5;66;03m# type: ignore[call-arg]  # mypy is not smart enough here\u001b[39;00m\n\u001b[0;32m--> 247\u001b[0m \u001b[38;5;28;01mraise\u001b[39;00m exception_class(message, screen, stacktrace)\n",
      "\u001b[0;31mNoSuchElementException\u001b[0m: Message: no such element: Unable to locate element: {\"method\":\"xpath\",\"selector\":\"/html/body/div[1]/div/div/div[2]/main/div/div/div/div/div/div[1]/div[1]/div[1]/div/div/div/div/div[1]/div[2]/div/div/div/form/div[1]/div/div/div/label/div[2]/div/input\"}\n  (Session info: chrome=105.0.5195.125)\nStacktrace:\n0   chromedriver                        0x00000001101cc788 chromedriver + 4515720\n1   chromedriver                        0x00000001101509d3 chromedriver + 4008403\n2   chromedriver                        0x000000010fde312a chromedriver + 413994\n3   chromedriver                        0x000000010fe1a873 chromedriver + 641139\n4   chromedriver                        0x000000010fe1aa61 chromedriver + 641633\n5   chromedriver                        0x000000010fe4cf64 chromedriver + 847716\n6   chromedriver                        0x000000010fe377fd chromedriver + 759805\n7   chromedriver                        0x000000010fe4abd9 chromedriver + 838617\n8   chromedriver                        0x000000010fe37603 chromedriver + 759299\n9   chromedriver                        0x000000010fe0d990 chromedriver + 588176\n10  chromedriver                        0x000000010fe0ea75 chromedriver + 592501\n11  chromedriver                        0x000000011019c6cd chromedriver + 4318925\n12  chromedriver                        0x00000001101a0f35 chromedriver + 4337461\n13  chromedriver                        0x00000001101a81ff chromedriver + 4366847\n14  chromedriver                        0x00000001101a1c5a chromedriver + 4340826\n15  chromedriver                        0x0000000110177c2c chromedriver + 4168748\n16  chromedriver                        0x00000001101be4f8 chromedriver + 4457720\n17  chromedriver                        0x00000001101be693 chromedriver + 4458131\n18  chromedriver                        0x00000001101d3a3e chromedriver + 4545086\n19  libsystem_pthread.dylib             0x00007fff206108fc _pthread_start + 224\n20  libsystem_pthread.dylib             0x00007fff2060c443 thread_start + 15\n"
     ]
    }
   ],
   "source": [
    "%run twitter_block_searches.py"
   ]
  },
  {
   "cell_type": "code",
   "execution_count": 94,
   "id": "7bcff495-6826-4bf9-812c-8b84f83831ee",
   "metadata": {},
   "outputs": [
    {
     "name": "stderr",
     "output_type": "stream",
     "text": [
      "/Users/taniguchiyuujin/Desktop/sidejob/twitter_block_searches.py:36: DeprecationWarning: executable_path has been deprecated, please pass in a Service object\n",
      "  \n"
     ]
    },
    {
     "name": "stdout",
     "output_type": "stream",
     "text": [
      "一つ目\n",
      "https://twitter.com/explore\n",
      "1回ブロックしました\n",
      "2回ブロックしました\n",
      "3回ブロックしました\n",
      "4回ブロックしました\n",
      "5回ブロックしました\n",
      "6回ブロックしました\n",
      "7回ブロックしました\n",
      "8回ブロックしました\n",
      "9回ブロックしました\n",
      "10回ブロックしました\n"
     ]
    },
    {
     "ename": "NoSuchElementException",
     "evalue": "Message: no such element: Unable to locate element: {\"method\":\"xpath\",\"selector\":\"/html/body/div[1]/div/div/div[1]/div[2]/div/div/div/div/div/div[2]/div[2]/div[2]/div[1]\"}\n  (Session info: chrome=105.0.5195.125)\nStacktrace:\n0   chromedriver                        0x0000000105da1788 chromedriver + 4515720\n1   chromedriver                        0x0000000105d259d3 chromedriver + 4008403\n2   chromedriver                        0x00000001059b812a chromedriver + 413994\n3   chromedriver                        0x00000001059ef873 chromedriver + 641139\n4   chromedriver                        0x00000001059efa61 chromedriver + 641633\n5   chromedriver                        0x0000000105a21f64 chromedriver + 847716\n6   chromedriver                        0x0000000105a0c7fd chromedriver + 759805\n7   chromedriver                        0x0000000105a1fbd9 chromedriver + 838617\n8   chromedriver                        0x0000000105a0c603 chromedriver + 759299\n9   chromedriver                        0x00000001059e2990 chromedriver + 588176\n10  chromedriver                        0x00000001059e3a75 chromedriver + 592501\n11  chromedriver                        0x0000000105d716cd chromedriver + 4318925\n12  chromedriver                        0x0000000105d75f35 chromedriver + 4337461\n13  chromedriver                        0x0000000105d7d1ff chromedriver + 4366847\n14  chromedriver                        0x0000000105d76c5a chromedriver + 4340826\n15  chromedriver                        0x0000000105d4cc2c chromedriver + 4168748\n16  chromedriver                        0x0000000105d934f8 chromedriver + 4457720\n17  chromedriver                        0x0000000105d93693 chromedriver + 4458131\n18  chromedriver                        0x0000000105da8a3e chromedriver + 4545086\n19  libsystem_pthread.dylib             0x00007fff206108fc _pthread_start + 224\n20  libsystem_pthread.dylib             0x00007fff2060c443 thread_start + 15\n",
     "output_type": "error",
     "traceback": [
      "\u001b[0;31m---------------------------------------------------------------------------\u001b[0m",
      "\u001b[0;31mNoSuchElementException\u001b[0m                    Traceback (most recent call last)",
      "File \u001b[0;32m~/Desktop/sidejob/twitter_block_searches.py:129\u001b[0m, in \u001b[0;36m<module>\u001b[0;34m\u001b[0m\n\u001b[1;32m    126\u001b[0m     \u001b[38;5;28;01mcontinue\u001b[39;00m\n\u001b[1;32m    127\u001b[0m time\u001b[38;5;241m.\u001b[39msleep(\u001b[38;5;241m1\u001b[39m)\n\u001b[0;32m--> 129\u001b[0m block \u001b[38;5;241m=\u001b[39m \u001b[43mdriver\u001b[49m\u001b[38;5;241;43m.\u001b[39;49m\u001b[43mfind_element\u001b[49m\u001b[43m(\u001b[49m\u001b[43mBy\u001b[49m\u001b[38;5;241;43m.\u001b[39;49m\u001b[43mXPATH\u001b[49m\u001b[43m,\u001b[49m\u001b[38;5;124;43m\"\u001b[39;49m\u001b[38;5;124;43m/html/body/div[1]/div/div/div[1]/div[2]/div/div/div/div/div/div[2]/div[2]/div[2]/div[1]\u001b[39;49m\u001b[38;5;124;43m\"\u001b[39;49m\u001b[43m)\u001b[49m\n\u001b[1;32m    130\u001b[0m block\u001b[38;5;241m.\u001b[39mclick()\n\u001b[1;32m    131\u001b[0m count\u001b[38;5;241m=\u001b[39mcount\u001b[38;5;241m+\u001b[39m\u001b[38;5;241m1\u001b[39m\n",
      "File \u001b[0;32m~/.pyenv/versions/3.10.0/lib/python3.10/site-packages/selenium/webdriver/remote/webdriver.py:1244\u001b[0m, in \u001b[0;36mWebDriver.find_element\u001b[0;34m(self, by, value)\u001b[0m\n\u001b[1;32m   1241\u001b[0m     by \u001b[38;5;241m=\u001b[39m By\u001b[38;5;241m.\u001b[39mCSS_SELECTOR\n\u001b[1;32m   1242\u001b[0m     value \u001b[38;5;241m=\u001b[39m \u001b[38;5;124m'\u001b[39m\u001b[38;5;124m[name=\u001b[39m\u001b[38;5;124m\"\u001b[39m\u001b[38;5;132;01m%s\u001b[39;00m\u001b[38;5;124m\"\u001b[39m\u001b[38;5;124m]\u001b[39m\u001b[38;5;124m'\u001b[39m \u001b[38;5;241m%\u001b[39m value\n\u001b[0;32m-> 1244\u001b[0m \u001b[38;5;28;01mreturn\u001b[39;00m \u001b[38;5;28;43mself\u001b[39;49m\u001b[38;5;241;43m.\u001b[39;49m\u001b[43mexecute\u001b[49m\u001b[43m(\u001b[49m\u001b[43mCommand\u001b[49m\u001b[38;5;241;43m.\u001b[39;49m\u001b[43mFIND_ELEMENT\u001b[49m\u001b[43m,\u001b[49m\u001b[43m \u001b[49m\u001b[43m{\u001b[49m\n\u001b[1;32m   1245\u001b[0m \u001b[43m    \u001b[49m\u001b[38;5;124;43m'\u001b[39;49m\u001b[38;5;124;43musing\u001b[39;49m\u001b[38;5;124;43m'\u001b[39;49m\u001b[43m:\u001b[49m\u001b[43m \u001b[49m\u001b[43mby\u001b[49m\u001b[43m,\u001b[49m\n\u001b[1;32m   1246\u001b[0m \u001b[43m    \u001b[49m\u001b[38;5;124;43m'\u001b[39;49m\u001b[38;5;124;43mvalue\u001b[39;49m\u001b[38;5;124;43m'\u001b[39;49m\u001b[43m:\u001b[49m\u001b[43m \u001b[49m\u001b[43mvalue\u001b[49m\u001b[43m}\u001b[49m\u001b[43m)\u001b[49m[\u001b[38;5;124m'\u001b[39m\u001b[38;5;124mvalue\u001b[39m\u001b[38;5;124m'\u001b[39m]\n",
      "File \u001b[0;32m~/.pyenv/versions/3.10.0/lib/python3.10/site-packages/selenium/webdriver/remote/webdriver.py:424\u001b[0m, in \u001b[0;36mWebDriver.execute\u001b[0;34m(self, driver_command, params)\u001b[0m\n\u001b[1;32m    422\u001b[0m response \u001b[38;5;241m=\u001b[39m \u001b[38;5;28mself\u001b[39m\u001b[38;5;241m.\u001b[39mcommand_executor\u001b[38;5;241m.\u001b[39mexecute(driver_command, params)\n\u001b[1;32m    423\u001b[0m \u001b[38;5;28;01mif\u001b[39;00m response:\n\u001b[0;32m--> 424\u001b[0m     \u001b[38;5;28;43mself\u001b[39;49m\u001b[38;5;241;43m.\u001b[39;49m\u001b[43merror_handler\u001b[49m\u001b[38;5;241;43m.\u001b[39;49m\u001b[43mcheck_response\u001b[49m\u001b[43m(\u001b[49m\u001b[43mresponse\u001b[49m\u001b[43m)\u001b[49m\n\u001b[1;32m    425\u001b[0m     response[\u001b[38;5;124m'\u001b[39m\u001b[38;5;124mvalue\u001b[39m\u001b[38;5;124m'\u001b[39m] \u001b[38;5;241m=\u001b[39m \u001b[38;5;28mself\u001b[39m\u001b[38;5;241m.\u001b[39m_unwrap_value(\n\u001b[1;32m    426\u001b[0m         response\u001b[38;5;241m.\u001b[39mget(\u001b[38;5;124m'\u001b[39m\u001b[38;5;124mvalue\u001b[39m\u001b[38;5;124m'\u001b[39m, \u001b[38;5;28;01mNone\u001b[39;00m))\n\u001b[1;32m    427\u001b[0m     \u001b[38;5;28;01mreturn\u001b[39;00m response\n",
      "File \u001b[0;32m~/.pyenv/versions/3.10.0/lib/python3.10/site-packages/selenium/webdriver/remote/errorhandler.py:247\u001b[0m, in \u001b[0;36mErrorHandler.check_response\u001b[0;34m(self, response)\u001b[0m\n\u001b[1;32m    245\u001b[0m         alert_text \u001b[38;5;241m=\u001b[39m value[\u001b[38;5;124m'\u001b[39m\u001b[38;5;124malert\u001b[39m\u001b[38;5;124m'\u001b[39m]\u001b[38;5;241m.\u001b[39mget(\u001b[38;5;124m'\u001b[39m\u001b[38;5;124mtext\u001b[39m\u001b[38;5;124m'\u001b[39m)\n\u001b[1;32m    246\u001b[0m     \u001b[38;5;28;01mraise\u001b[39;00m exception_class(message, screen, stacktrace, alert_text)  \u001b[38;5;66;03m# type: ignore[call-arg]  # mypy is not smart enough here\u001b[39;00m\n\u001b[0;32m--> 247\u001b[0m \u001b[38;5;28;01mraise\u001b[39;00m exception_class(message, screen, stacktrace)\n",
      "\u001b[0;31mNoSuchElementException\u001b[0m: Message: no such element: Unable to locate element: {\"method\":\"xpath\",\"selector\":\"/html/body/div[1]/div/div/div[1]/div[2]/div/div/div/div/div/div[2]/div[2]/div[2]/div[1]\"}\n  (Session info: chrome=105.0.5195.125)\nStacktrace:\n0   chromedriver                        0x0000000105da1788 chromedriver + 4515720\n1   chromedriver                        0x0000000105d259d3 chromedriver + 4008403\n2   chromedriver                        0x00000001059b812a chromedriver + 413994\n3   chromedriver                        0x00000001059ef873 chromedriver + 641139\n4   chromedriver                        0x00000001059efa61 chromedriver + 641633\n5   chromedriver                        0x0000000105a21f64 chromedriver + 847716\n6   chromedriver                        0x0000000105a0c7fd chromedriver + 759805\n7   chromedriver                        0x0000000105a1fbd9 chromedriver + 838617\n8   chromedriver                        0x0000000105a0c603 chromedriver + 759299\n9   chromedriver                        0x00000001059e2990 chromedriver + 588176\n10  chromedriver                        0x00000001059e3a75 chromedriver + 592501\n11  chromedriver                        0x0000000105d716cd chromedriver + 4318925\n12  chromedriver                        0x0000000105d75f35 chromedriver + 4337461\n13  chromedriver                        0x0000000105d7d1ff chromedriver + 4366847\n14  chromedriver                        0x0000000105d76c5a chromedriver + 4340826\n15  chromedriver                        0x0000000105d4cc2c chromedriver + 4168748\n16  chromedriver                        0x0000000105d934f8 chromedriver + 4457720\n17  chromedriver                        0x0000000105d93693 chromedriver + 4458131\n18  chromedriver                        0x0000000105da8a3e chromedriver + 4545086\n19  libsystem_pthread.dylib             0x00007fff206108fc _pthread_start + 224\n20  libsystem_pthread.dylib             0x00007fff2060c443 thread_start + 15\n"
     ]
    }
   ],
   "source": [
    "%run twitter_block_searches.py"
   ]
  },
  {
   "cell_type": "code",
   "execution_count": null,
   "id": "f08a8677-1ce6-4804-ae13-e8d98e1561ca",
   "metadata": {},
   "outputs": [],
   "source": []
  }
 ],
 "metadata": {
  "kernelspec": {
   "display_name": "Python 3 (ipykernel)",
   "language": "python",
   "name": "python3"
  },
  "language_info": {
   "codemirror_mode": {
    "name": "ipython",
    "version": 3
   },
   "file_extension": ".py",
   "mimetype": "text/x-python",
   "name": "python",
   "nbconvert_exporter": "python",
   "pygments_lexer": "ipython3",
   "version": "3.10.0"
  }
 },
 "nbformat": 4,
 "nbformat_minor": 5
}
