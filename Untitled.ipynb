{
 "cells": [
  {
   "cell_type": "code",
   "execution_count": 6,
   "id": "4799116d-7ff5-4c82-a93a-c8fba15de299",
   "metadata": {},
   "outputs": [
    {
     "ename": "Exception",
     "evalue": "File `'twitter_block_searchesw.py'` not found.",
     "output_type": "error",
     "traceback": [
      "\u001b[0;31m---------------------------------------------------------------------------\u001b[0m",
      "\u001b[0;31mOSError\u001b[0m                                   Traceback (most recent call last)",
      "File \u001b[0;32m~/.pyenv/versions/3.10.0/lib/python3.10/site-packages/IPython/core/magics/execution.py:696\u001b[0m, in \u001b[0;36mExecutionMagics.run\u001b[0;34m(self, parameter_s, runner, file_finder)\u001b[0m\n\u001b[1;32m    695\u001b[0m     fpath \u001b[38;5;241m=\u001b[39m arg_lst[\u001b[38;5;241m0\u001b[39m]\n\u001b[0;32m--> 696\u001b[0m     filename \u001b[38;5;241m=\u001b[39m \u001b[43mfile_finder\u001b[49m\u001b[43m(\u001b[49m\u001b[43mfpath\u001b[49m\u001b[43m)\u001b[49m\n\u001b[1;32m    697\u001b[0m \u001b[38;5;28;01mexcept\u001b[39;00m \u001b[38;5;167;01mIndexError\u001b[39;00m \u001b[38;5;28;01mas\u001b[39;00m e:\n",
      "File \u001b[0;32m~/.pyenv/versions/3.10.0/lib/python3.10/site-packages/IPython/utils/path.py:91\u001b[0m, in \u001b[0;36mget_py_filename\u001b[0;34m(name)\u001b[0m\n\u001b[1;32m     90\u001b[0m \u001b[38;5;28;01melse\u001b[39;00m:\n\u001b[0;32m---> 91\u001b[0m     \u001b[38;5;28;01mraise\u001b[39;00m \u001b[38;5;167;01mIOError\u001b[39;00m(\u001b[38;5;124m'\u001b[39m\u001b[38;5;124mFile `\u001b[39m\u001b[38;5;132;01m%r\u001b[39;00m\u001b[38;5;124m` not found.\u001b[39m\u001b[38;5;124m'\u001b[39m \u001b[38;5;241m%\u001b[39m name)\n",
      "\u001b[0;31mOSError\u001b[0m: File `'twitter_block_searchesw.py'` not found.",
      "\nThe above exception was the direct cause of the following exception:\n",
      "\u001b[0;31mException\u001b[0m                                 Traceback (most recent call last)",
      "Input \u001b[0;32mIn [6]\u001b[0m, in \u001b[0;36m<cell line: 1>\u001b[0;34m()\u001b[0m\n\u001b[0;32m----> 1\u001b[0m \u001b[43mget_ipython\u001b[49m\u001b[43m(\u001b[49m\u001b[43m)\u001b[49m\u001b[38;5;241;43m.\u001b[39;49m\u001b[43mrun_line_magic\u001b[49m\u001b[43m(\u001b[49m\u001b[38;5;124;43m'\u001b[39;49m\u001b[38;5;124;43mrun\u001b[39;49m\u001b[38;5;124;43m'\u001b[39;49m\u001b[43m,\u001b[49m\u001b[43m \u001b[49m\u001b[38;5;124;43m'\u001b[39;49m\u001b[38;5;124;43mtwitter_block_searchesw\u001b[39;49m\u001b[38;5;124;43m'\u001b[39;49m\u001b[43m)\u001b[49m\n",
      "File \u001b[0;32m~/.pyenv/versions/3.10.0/lib/python3.10/site-packages/IPython/core/interactiveshell.py:2305\u001b[0m, in \u001b[0;36mInteractiveShell.run_line_magic\u001b[0;34m(self, magic_name, line, _stack_depth)\u001b[0m\n\u001b[1;32m   2303\u001b[0m     kwargs[\u001b[38;5;124m'\u001b[39m\u001b[38;5;124mlocal_ns\u001b[39m\u001b[38;5;124m'\u001b[39m] \u001b[38;5;241m=\u001b[39m \u001b[38;5;28mself\u001b[39m\u001b[38;5;241m.\u001b[39mget_local_scope(stack_depth)\n\u001b[1;32m   2304\u001b[0m \u001b[38;5;28;01mwith\u001b[39;00m \u001b[38;5;28mself\u001b[39m\u001b[38;5;241m.\u001b[39mbuiltin_trap:\n\u001b[0;32m-> 2305\u001b[0m     result \u001b[38;5;241m=\u001b[39m \u001b[43mfn\u001b[49m\u001b[43m(\u001b[49m\u001b[38;5;241;43m*\u001b[39;49m\u001b[43margs\u001b[49m\u001b[43m,\u001b[49m\u001b[43m \u001b[49m\u001b[38;5;241;43m*\u001b[39;49m\u001b[38;5;241;43m*\u001b[39;49m\u001b[43mkwargs\u001b[49m\u001b[43m)\u001b[49m\n\u001b[1;32m   2306\u001b[0m \u001b[38;5;28;01mreturn\u001b[39;00m result\n",
      "File \u001b[0;32m~/.pyenv/versions/3.10.0/lib/python3.10/site-packages/IPython/core/magics/execution.py:707\u001b[0m, in \u001b[0;36mExecutionMagics.run\u001b[0;34m(self, parameter_s, runner, file_finder)\u001b[0m\n\u001b[1;32m    705\u001b[0m     \u001b[38;5;28;01mif\u001b[39;00m os\u001b[38;5;241m.\u001b[39mname \u001b[38;5;241m==\u001b[39m \u001b[38;5;124m'\u001b[39m\u001b[38;5;124mnt\u001b[39m\u001b[38;5;124m'\u001b[39m \u001b[38;5;129;01mand\u001b[39;00m re\u001b[38;5;241m.\u001b[39mmatch(\u001b[38;5;124mr\u001b[39m\u001b[38;5;124m\"\u001b[39m\u001b[38;5;124m^\u001b[39m\u001b[38;5;124m'\u001b[39m\u001b[38;5;124m.*\u001b[39m\u001b[38;5;124m'\u001b[39m\u001b[38;5;124m$\u001b[39m\u001b[38;5;124m\"\u001b[39m,fpath):\n\u001b[1;32m    706\u001b[0m         warn(\u001b[38;5;124m'\u001b[39m\u001b[38;5;124mFor Windows, use double quotes to wrap a filename: \u001b[39m\u001b[38;5;132;01m%r\u001b[39;00m\u001b[38;5;124mun \u001b[39m\u001b[38;5;124m\"\u001b[39m\u001b[38;5;124mmypath\u001b[39m\u001b[38;5;130;01m\\\\\u001b[39;00m\u001b[38;5;124mmyfile.py\u001b[39m\u001b[38;5;124m\"\u001b[39m\u001b[38;5;124m'\u001b[39m)\n\u001b[0;32m--> 707\u001b[0m     \u001b[38;5;28;01mraise\u001b[39;00m \u001b[38;5;167;01mException\u001b[39;00m(msg) \u001b[38;5;28;01mfrom\u001b[39;00m \u001b[38;5;21;01me\u001b[39;00m\n\u001b[1;32m    708\u001b[0m \u001b[38;5;28;01mexcept\u001b[39;00m \u001b[38;5;167;01mTypeError\u001b[39;00m:\n\u001b[1;32m    709\u001b[0m     \u001b[38;5;28;01mif\u001b[39;00m fpath \u001b[38;5;129;01min\u001b[39;00m sys\u001b[38;5;241m.\u001b[39mmeta_path:\n",
      "\u001b[0;31mException\u001b[0m: File `'twitter_block_searchesw.py'` not found."
     ]
    }
   ],
   "source": [
    "%run twitter_block_searchesw"
   ]
  },
  {
   "cell_type": "code",
   "execution_count": 7,
   "id": "a1961ce0-c19a-4021-9210-378ef8b7f396",
   "metadata": {},
   "outputs": [
    {
     "name": "stdout",
     "output_type": "stream",
     "text": [
      "aaaa\n"
     ]
    }
   ],
   "source": [
    "print(\"aaaa\")"
   ]
  },
  {
   "cell_type": "code",
   "execution_count": 8,
   "id": "f2172199-f2fb-4951-a9dd-c1693453f215",
   "metadata": {},
   "outputs": [
    {
     "ename": "SyntaxError",
     "evalue": "invalid syntax. Perhaps you forgot a comma? (1213309441.py, line 1)",
     "output_type": "error",
     "traceback": [
      "\u001b[0;36m  Input \u001b[0;32mIn [8]\u001b[0;36m\u001b[0m\n\u001b[0;31m    python -u twitter_block_searchesw\u001b[0m\n\u001b[0m           ^\u001b[0m\n\u001b[0;31mSyntaxError\u001b[0m\u001b[0;31m:\u001b[0m invalid syntax. Perhaps you forgot a comma?\n"
     ]
    }
   ],
   "source": [
    "python -u twitter_block_searchesw"
   ]
  },
  {
   "cell_type": "code",
   "execution_count": 12,
   "id": "e5d33ae1-fb98-453f-a192-e8606e12696e",
   "metadata": {},
   "outputs": [
    {
     "name": "stdout",
     "output_type": "stream",
     "text": [
      "/Users/taniguchiyuujin/Desktop/sidejob/twitter_block_searches.py:36: DeprecationWarning: executable_path has been deprecated, please pass in a Service object\n",
      "  driver = webdriver.Chrome(ChromeDriverManager().install())\n",
      "Traceback (most recent call last):\n",
      "  File \"/Users/taniguchiyuujin/Desktop/sidejob/twitter_block_searches.py\", line 55, in <module>\n",
      "    a[0].send_keys(keys.ENTER)\n",
      "  File \"/Users/taniguchiyuujin/.pyenv/versions/3.10.0/lib/python3.10/site-packages/selenium/webdriver/remote/webelement.py\", line 540, in send_keys\n",
      "    self._execute(Command.SEND_KEYS_TO_ELEMENT,\n",
      "  File \"/Users/taniguchiyuujin/.pyenv/versions/3.10.0/lib/python3.10/site-packages/selenium/webdriver/remote/webelement.py\", line 710, in _execute\n",
      "    return self._parent.execute(command, params)\n",
      "  File \"/Users/taniguchiyuujin/.pyenv/versions/3.10.0/lib/python3.10/site-packages/selenium/webdriver/remote/webdriver.py\", line 424, in execute\n",
      "    self.error_handler.check_response(response)\n",
      "  File \"/Users/taniguchiyuujin/.pyenv/versions/3.10.0/lib/python3.10/site-packages/selenium/webdriver/remote/errorhandler.py\", line 247, in check_response\n",
      "    raise exception_class(message, screen, stacktrace)\n",
      "selenium.common.exceptions.NoSuchWindowException: Message: no such window: target window already closed\n",
      "from unknown error: web view not found\n",
      "  (Session info: chrome=105.0.5195.125)\n",
      "Stacktrace:\n",
      "0   chromedriver                        0x000000010db09788 chromedriver + 4515720\n",
      "1   chromedriver                        0x000000010da8d9d3 chromedriver + 4008403\n",
      "2   chromedriver                        0x000000010d72012a chromedriver + 413994\n",
      "3   chromedriver                        0x000000010d700a93 chromedriver + 285331\n",
      "4   chromedriver                        0x000000010d777d8b chromedriver + 773515\n",
      "5   chromedriver                        0x000000010d7871d3 chromedriver + 836051\n",
      "6   chromedriver                        0x000000010d774603 chromedriver + 759299\n",
      "7   chromedriver                        0x000000010d74a990 chromedriver + 588176\n",
      "8   chromedriver                        0x000000010d74ba75 chromedriver + 592501\n",
      "9   chromedriver                        0x000000010dad96cd chromedriver + 4318925\n",
      "10  chromedriver                        0x000000010daddf35 chromedriver + 4337461\n",
      "11  chromedriver                        0x000000010dae51ff chromedriver + 4366847\n",
      "12  chromedriver                        0x000000010dadec5a chromedriver + 4340826\n",
      "13  chromedriver                        0x000000010dab4c2c chromedriver + 4168748\n",
      "14  chromedriver                        0x000000010dafb4f8 chromedriver + 4457720\n",
      "15  chromedriver                        0x000000010dafb693 chromedriver + 4458131\n",
      "16  chromedriver                        0x000000010db10a3e chromedriver + 4545086\n",
      "17  libsystem_pthread.dylib             0x00007fff206108fc _pthread_start + 224\n",
      "18  libsystem_pthread.dylib             0x00007fff2060c443 thread_start + 15\n",
      "\n"
     ]
    }
   ],
   "source": [
    "!python -u twitter_block_searches.py"
   ]
  },
  {
   "cell_type": "code",
   "execution_count": 19,
   "id": "ce702e37-e827-43da-a751-65111fb843b3",
   "metadata": {},
   "outputs": [
    {
     "name": "stderr",
     "output_type": "stream",
     "text": [
      "/var/folders/p7/100t12911tscxdj7kqv88b_h0000gn/T/ipykernel_25592/867602677.py:36: DeprecationWarning: executable_path has been deprecated, please pass in a Service object\n",
      "  driver = webdriver.Chrome(ChromeDriverManager().install())\n"
     ]
    },
    {
     "name": "stdout",
     "output_type": "stream",
     "text": [
      "検索ワード一つ目\n",
      "https://twitter.com/explore\n"
     ]
    },
    {
     "name": "stderr",
     "output_type": "stream",
     "text": [
      "/var/folders/p7/100t12911tscxdj7kqv88b_h0000gn/T/ipykernel_25592/867602677.py:92: DeprecationWarning: find_element_by_* commands are deprecated. Please use find_element() instead\n",
      "  a = driver.find_element_by_xpath(\"/html/body/div[1]/div/div/div[2]/main/div/div/div/div/div/div[1]/div[1]/div[2]/nav/div/div[2]/div/div[2]/a\")\n",
      "/var/folders/p7/100t12911tscxdj7kqv88b_h0000gn/T/ipykernel_25592/867602677.py:104: DeprecationWarning: find_elements_by_* commands are deprecated. Please use find_elements() instead\n",
      "  a = driver.find_elements_by_xpath(\"/html/body/div[1]/div/div/div[2]/main/div/div/div/div/div/div[2]/div/section/div/div/div\")\n",
      "/var/folders/p7/100t12911tscxdj7kqv88b_h0000gn/T/ipykernel_25592/867602677.py:111: DeprecationWarning: find_elements_by_* commands are deprecated. Please use find_elements() instead\n",
      "  detail_button = driver.find_elements_by_xpath(x_path)\n",
      "/var/folders/p7/100t12911tscxdj7kqv88b_h0000gn/T/ipykernel_25592/867602677.py:132: DeprecationWarning: find_element_by_* commands are deprecated. Please use find_element() instead\n",
      "  search_input = driver.find_element_by_xpath(\"/html/body/div[1]/div/div/div[2]/main/div/div/div/div/div/div[1]/div[1]/div/div/div/div/div[2]/div[2]/div/div/div/form/div[1]/div/div/label/div[2]/div/input\")\n"
     ]
    },
    {
     "ename": "NoSuchElementException",
     "evalue": "Message: no such element: Unable to locate element: {\"method\":\"xpath\",\"selector\":\"/html/body/div[1]/div/div/div[2]/main/div/div/div/div/div/div[1]/div[1]/div/div/div/div/div[2]/div[2]/div/div/div/form/div[1]/div/div/label/div[2]/div/input\"}\n  (Session info: chrome=105.0.5195.125)\nStacktrace:\n0   chromedriver                        0x0000000107af7788 chromedriver + 4515720\n1   chromedriver                        0x0000000107a7b9d3 chromedriver + 4008403\n2   chromedriver                        0x000000010770e12a chromedriver + 413994\n3   chromedriver                        0x0000000107745873 chromedriver + 641139\n4   chromedriver                        0x0000000107745a61 chromedriver + 641633\n5   chromedriver                        0x0000000107777f64 chromedriver + 847716\n6   chromedriver                        0x00000001077627fd chromedriver + 759805\n7   chromedriver                        0x0000000107775bd9 chromedriver + 838617\n8   chromedriver                        0x0000000107762603 chromedriver + 759299\n9   chromedriver                        0x0000000107738990 chromedriver + 588176\n10  chromedriver                        0x0000000107739a75 chromedriver + 592501\n11  chromedriver                        0x0000000107ac76cd chromedriver + 4318925\n12  chromedriver                        0x0000000107acbf35 chromedriver + 4337461\n13  chromedriver                        0x0000000107ad31ff chromedriver + 4366847\n14  chromedriver                        0x0000000107accc5a chromedriver + 4340826\n15  chromedriver                        0x0000000107aa2c2c chromedriver + 4168748\n16  chromedriver                        0x0000000107ae94f8 chromedriver + 4457720\n17  chromedriver                        0x0000000107ae9693 chromedriver + 4458131\n18  chromedriver                        0x0000000107afea3e chromedriver + 4545086\n19  libsystem_pthread.dylib             0x00007fff206108fc _pthread_start + 224\n20  libsystem_pthread.dylib             0x00007fff2060c443 thread_start + 15\n",
     "output_type": "error",
     "traceback": [
      "\u001b[0;31m---------------------------------------------------------------------------\u001b[0m",
      "\u001b[0;31mNoSuchElementException\u001b[0m                    Traceback (most recent call last)",
      "Input \u001b[0;32mIn [19]\u001b[0m, in \u001b[0;36m<cell line: 68>\u001b[0;34m()\u001b[0m\n\u001b[1;32m    129\u001b[0m     \u001b[38;5;28mprint\u001b[39m(\u001b[38;5;28mstr\u001b[39m(count)\u001b[38;5;241m+\u001b[39m\u001b[38;5;124m\"\u001b[39m\u001b[38;5;124m回ブロックしました\u001b[39m\u001b[38;5;124m\"\u001b[39m)\n\u001b[1;32m    130\u001b[0m     time\u001b[38;5;241m.\u001b[39msleep(\u001b[38;5;241m1\u001b[39m)\n\u001b[0;32m--> 132\u001b[0m search_input \u001b[38;5;241m=\u001b[39m \u001b[43mdriver\u001b[49m\u001b[38;5;241;43m.\u001b[39;49m\u001b[43mfind_element_by_xpath\u001b[49m\u001b[43m(\u001b[49m\u001b[38;5;124;43m\"\u001b[39;49m\u001b[38;5;124;43m/html/body/div[1]/div/div/div[2]/main/div/div/div/div/div/div[1]/div[1]/div/div/div/div/div[2]/div[2]/div/div/div/form/div[1]/div/div/label/div[2]/div/input\u001b[39;49m\u001b[38;5;124;43m\"\u001b[39;49m\u001b[43m)\u001b[49m\n\u001b[1;32m    133\u001b[0m search_input\u001b[38;5;241m.\u001b[39msend_keys(keys\u001b[38;5;241m.\u001b[39mENTER)\n",
      "File \u001b[0;32m~/.pyenv/versions/3.10.0/lib/python3.10/site-packages/selenium/webdriver/remote/webdriver.py:520\u001b[0m, in \u001b[0;36mWebDriver.find_element_by_xpath\u001b[0;34m(self, xpath)\u001b[0m\n\u001b[1;32m    498\u001b[0m \u001b[38;5;124;03m\"\"\"\u001b[39;00m\n\u001b[1;32m    499\u001b[0m \u001b[38;5;124;03mFinds an element by xpath.\u001b[39;00m\n\u001b[1;32m    500\u001b[0m \n\u001b[0;32m   (...)\u001b[0m\n\u001b[1;32m    513\u001b[0m \u001b[38;5;124;03m        element = driver.find_element_by_xpath('//div/td[1]')\u001b[39;00m\n\u001b[1;32m    514\u001b[0m \u001b[38;5;124;03m\"\"\"\u001b[39;00m\n\u001b[1;32m    515\u001b[0m warnings\u001b[38;5;241m.\u001b[39mwarn(\n\u001b[1;32m    516\u001b[0m     \u001b[38;5;124m\"\u001b[39m\u001b[38;5;124mfind_element_by_* commands are deprecated. Please use find_element() instead\u001b[39m\u001b[38;5;124m\"\u001b[39m,\n\u001b[1;32m    517\u001b[0m     \u001b[38;5;167;01mDeprecationWarning\u001b[39;00m,\n\u001b[1;32m    518\u001b[0m     stacklevel\u001b[38;5;241m=\u001b[39m\u001b[38;5;241m2\u001b[39m,\n\u001b[1;32m    519\u001b[0m )\n\u001b[0;32m--> 520\u001b[0m \u001b[38;5;28;01mreturn\u001b[39;00m \u001b[38;5;28;43mself\u001b[39;49m\u001b[38;5;241;43m.\u001b[39;49m\u001b[43mfind_element\u001b[49m\u001b[43m(\u001b[49m\u001b[43mby\u001b[49m\u001b[38;5;241;43m=\u001b[39;49m\u001b[43mBy\u001b[49m\u001b[38;5;241;43m.\u001b[39;49m\u001b[43mXPATH\u001b[49m\u001b[43m,\u001b[49m\u001b[43m \u001b[49m\u001b[43mvalue\u001b[49m\u001b[38;5;241;43m=\u001b[39;49m\u001b[43mxpath\u001b[49m\u001b[43m)\u001b[49m\n",
      "File \u001b[0;32m~/.pyenv/versions/3.10.0/lib/python3.10/site-packages/selenium/webdriver/remote/webdriver.py:1244\u001b[0m, in \u001b[0;36mWebDriver.find_element\u001b[0;34m(self, by, value)\u001b[0m\n\u001b[1;32m   1241\u001b[0m     by \u001b[38;5;241m=\u001b[39m By\u001b[38;5;241m.\u001b[39mCSS_SELECTOR\n\u001b[1;32m   1242\u001b[0m     value \u001b[38;5;241m=\u001b[39m \u001b[38;5;124m'\u001b[39m\u001b[38;5;124m[name=\u001b[39m\u001b[38;5;124m\"\u001b[39m\u001b[38;5;132;01m%s\u001b[39;00m\u001b[38;5;124m\"\u001b[39m\u001b[38;5;124m]\u001b[39m\u001b[38;5;124m'\u001b[39m \u001b[38;5;241m%\u001b[39m value\n\u001b[0;32m-> 1244\u001b[0m \u001b[38;5;28;01mreturn\u001b[39;00m \u001b[38;5;28;43mself\u001b[39;49m\u001b[38;5;241;43m.\u001b[39;49m\u001b[43mexecute\u001b[49m\u001b[43m(\u001b[49m\u001b[43mCommand\u001b[49m\u001b[38;5;241;43m.\u001b[39;49m\u001b[43mFIND_ELEMENT\u001b[49m\u001b[43m,\u001b[49m\u001b[43m \u001b[49m\u001b[43m{\u001b[49m\n\u001b[1;32m   1245\u001b[0m \u001b[43m    \u001b[49m\u001b[38;5;124;43m'\u001b[39;49m\u001b[38;5;124;43musing\u001b[39;49m\u001b[38;5;124;43m'\u001b[39;49m\u001b[43m:\u001b[49m\u001b[43m \u001b[49m\u001b[43mby\u001b[49m\u001b[43m,\u001b[49m\n\u001b[1;32m   1246\u001b[0m \u001b[43m    \u001b[49m\u001b[38;5;124;43m'\u001b[39;49m\u001b[38;5;124;43mvalue\u001b[39;49m\u001b[38;5;124;43m'\u001b[39;49m\u001b[43m:\u001b[49m\u001b[43m \u001b[49m\u001b[43mvalue\u001b[49m\u001b[43m}\u001b[49m\u001b[43m)\u001b[49m[\u001b[38;5;124m'\u001b[39m\u001b[38;5;124mvalue\u001b[39m\u001b[38;5;124m'\u001b[39m]\n",
      "File \u001b[0;32m~/.pyenv/versions/3.10.0/lib/python3.10/site-packages/selenium/webdriver/remote/webdriver.py:424\u001b[0m, in \u001b[0;36mWebDriver.execute\u001b[0;34m(self, driver_command, params)\u001b[0m\n\u001b[1;32m    422\u001b[0m response \u001b[38;5;241m=\u001b[39m \u001b[38;5;28mself\u001b[39m\u001b[38;5;241m.\u001b[39mcommand_executor\u001b[38;5;241m.\u001b[39mexecute(driver_command, params)\n\u001b[1;32m    423\u001b[0m \u001b[38;5;28;01mif\u001b[39;00m response:\n\u001b[0;32m--> 424\u001b[0m     \u001b[38;5;28;43mself\u001b[39;49m\u001b[38;5;241;43m.\u001b[39;49m\u001b[43merror_handler\u001b[49m\u001b[38;5;241;43m.\u001b[39;49m\u001b[43mcheck_response\u001b[49m\u001b[43m(\u001b[49m\u001b[43mresponse\u001b[49m\u001b[43m)\u001b[49m\n\u001b[1;32m    425\u001b[0m     response[\u001b[38;5;124m'\u001b[39m\u001b[38;5;124mvalue\u001b[39m\u001b[38;5;124m'\u001b[39m] \u001b[38;5;241m=\u001b[39m \u001b[38;5;28mself\u001b[39m\u001b[38;5;241m.\u001b[39m_unwrap_value(\n\u001b[1;32m    426\u001b[0m         response\u001b[38;5;241m.\u001b[39mget(\u001b[38;5;124m'\u001b[39m\u001b[38;5;124mvalue\u001b[39m\u001b[38;5;124m'\u001b[39m, \u001b[38;5;28;01mNone\u001b[39;00m))\n\u001b[1;32m    427\u001b[0m     \u001b[38;5;28;01mreturn\u001b[39;00m response\n",
      "File \u001b[0;32m~/.pyenv/versions/3.10.0/lib/python3.10/site-packages/selenium/webdriver/remote/errorhandler.py:247\u001b[0m, in \u001b[0;36mErrorHandler.check_response\u001b[0;34m(self, response)\u001b[0m\n\u001b[1;32m    245\u001b[0m         alert_text \u001b[38;5;241m=\u001b[39m value[\u001b[38;5;124m'\u001b[39m\u001b[38;5;124malert\u001b[39m\u001b[38;5;124m'\u001b[39m]\u001b[38;5;241m.\u001b[39mget(\u001b[38;5;124m'\u001b[39m\u001b[38;5;124mtext\u001b[39m\u001b[38;5;124m'\u001b[39m)\n\u001b[1;32m    246\u001b[0m     \u001b[38;5;28;01mraise\u001b[39;00m exception_class(message, screen, stacktrace, alert_text)  \u001b[38;5;66;03m# type: ignore[call-arg]  # mypy is not smart enough here\u001b[39;00m\n\u001b[0;32m--> 247\u001b[0m \u001b[38;5;28;01mraise\u001b[39;00m exception_class(message, screen, stacktrace)\n",
      "\u001b[0;31mNoSuchElementException\u001b[0m: Message: no such element: Unable to locate element: {\"method\":\"xpath\",\"selector\":\"/html/body/div[1]/div/div/div[2]/main/div/div/div/div/div/div[1]/div[1]/div/div/div/div/div[2]/div[2]/div/div/div/form/div[1]/div/div/label/div[2]/div/input\"}\n  (Session info: chrome=105.0.5195.125)\nStacktrace:\n0   chromedriver                        0x0000000107af7788 chromedriver + 4515720\n1   chromedriver                        0x0000000107a7b9d3 chromedriver + 4008403\n2   chromedriver                        0x000000010770e12a chromedriver + 413994\n3   chromedriver                        0x0000000107745873 chromedriver + 641139\n4   chromedriver                        0x0000000107745a61 chromedriver + 641633\n5   chromedriver                        0x0000000107777f64 chromedriver + 847716\n6   chromedriver                        0x00000001077627fd chromedriver + 759805\n7   chromedriver                        0x0000000107775bd9 chromedriver + 838617\n8   chromedriver                        0x0000000107762603 chromedriver + 759299\n9   chromedriver                        0x0000000107738990 chromedriver + 588176\n10  chromedriver                        0x0000000107739a75 chromedriver + 592501\n11  chromedriver                        0x0000000107ac76cd chromedriver + 4318925\n12  chromedriver                        0x0000000107acbf35 chromedriver + 4337461\n13  chromedriver                        0x0000000107ad31ff chromedriver + 4366847\n14  chromedriver                        0x0000000107accc5a chromedriver + 4340826\n15  chromedriver                        0x0000000107aa2c2c chromedriver + 4168748\n16  chromedriver                        0x0000000107ae94f8 chromedriver + 4457720\n17  chromedriver                        0x0000000107ae9693 chromedriver + 4458131\n18  chromedriver                        0x0000000107afea3e chromedriver + 4545086\n19  libsystem_pthread.dylib             0x00007fff206108fc _pthread_start + 224\n20  libsystem_pthread.dylib             0x00007fff2060c443 thread_start + 15\n"
     ]
    }
   ],
   "source": [
    "# coding:utf-8\n",
    "\n",
    "\n",
    "from selenium import webdriver\n",
    "from selenium.webdriver.chrome.options import Options\n",
    "\n",
    "# webdriverのバージョン管理 webdriverマネージャー及びByのインストール　1\n",
    "from webdriver_manager.chrome import ChromeDriverManager\n",
    "from selenium.webdriver.common.by import By\n",
    "\n",
    "\n",
    "import time\n",
    "import requests\n",
    "import chromedriver_binary       \n",
    "from selenium.webdriver.common.keys import Keys as keys\n",
    "import random\n",
    "\n",
    "id=\"session08\"\n",
    "password=\"session09\"\n",
    "search_keys=[\"検索ワード一つ目\",\"検索ワード二つ目\",\"検索ワード三つ目\",\"・・・\"] #検索ワードを入力してください\n",
    "\n",
    "\n",
    "options = webdriver.ChromeOptions()\n",
    "# options.add_argument('--headless')    # ヘッドレスモードに\n",
    "options.add_argument('--no-sandbox')\n",
    "options.add_argument('--disable-gpu')\n",
    "options.add_argument(\"-window-size=1920,1080\")\n",
    "options.add_argument('--lang=ja-JP')\n",
    "options.add_argument(\"--start-maximized\")\n",
    "UA = 'Mozilla/5.0 (Macintosh; Intel Mac OS X 10_14_5) AppleWebKit/605.1.15 (KHTML, like Gecko)'\n",
    "\n",
    "options.add_argument('--user-agent=' + UA)\n",
    "#driver = webdriver.Chrome('chromedriver')\n",
    "\n",
    "# webdriverマネージャーのインストール\n",
    "driver = webdriver.Chrome(ChromeDriverManager().install())\n",
    "\n",
    "# driver = webdriver.Chrome(options=options)\n",
    "driver.implicitly_wait(10)\n",
    "driver.maximize_window()\n",
    "\n",
    "url = \"https://twitter.com/i/flow/login\"\n",
    "\n",
    "#id入力\n",
    "driver.get(url)\n",
    "# a = driver.find_elements_by_name(\"text\")\n",
    "a = driver.find_elements(By.NAME,\"text\")\n",
    "a[0].send_keys(id)\n",
    "a[0].send_keys(keys.ENTER)\n",
    "\n",
    "#password入力\n",
    "# a = driver.find_elements_by_name(\"password\")\n",
    "a = driver.find_elements(By.NAME,\"password\")\n",
    "a[0].send_keys(password)\n",
    "a[0].send_keys(keys.ENTER)\n",
    "time.sleep(5)\n",
    "\n",
    "#検索ボタンクリック\n",
    "# a = driver.find_element_by_xpath(\"/html/body/div[1]/div/div/div[2]/header/div/div/div/div[1]/div[2]/nav/a[2]\")\n",
    "\n",
    "a = driver.find_element(By.XPATH,\"/html/body/div[1]/div/div/div[2]/header/div/div/div/div[1]/div[2]/nav/a[2]\")\n",
    "\n",
    "\n",
    "a.click()\n",
    "\n",
    "time.sleep(4)\n",
    "\n",
    "for j in range(len(search_keys)):\n",
    "    if j!=0:\n",
    "        driver.get(\"https://twitter.com/explore\")\n",
    "\n",
    "\n",
    "    search_key=search_keys[j]\n",
    "    print(search_key)\n",
    "    print(driver.current_url)\n",
    "\n",
    "    #search_keyで検索\n",
    "    # a = driver.find_element_by_xpath(\"/html/body/div[1]/div/div/div[2]/main/div/div/div/div/div/div[1]/div[1]/div/div/div/div/div[1]/div[2]/div/div/div/form/div[1]/div/div/label/div[2]/div/input\")\n",
    "    a = driver.find_element(By.XPATH,\"/html/body/div[1]/div/div/div[2]/main/div/div/div/div/div/div[1]/div[1]/div[1]/div/div/div/div/div[1]/div[2]/div/div/div/form/div[1]/div/div/div/label/div[2]/div/input\")  \n",
    "    \n",
    "    \n",
    "    # if len(a)==0:\n",
    "    #     a = driver.find_elements_by_xpath(\"/html/body/div[1]/div/div/div[2]/main/div/div/div/div/div/div[1]/div[1]/div/div/div/div/div[2]/div[2]/div/div/div/form/div[1]/div/div/label/div[2]/div/input\")\n",
    "    a.clear()\n",
    "    time.sleep(2)\n",
    "    a.send_keys(search_key)\n",
    "    a.send_keys(keys.ENTER)\n",
    "\n",
    "    time.sleep(4)\n",
    "\n",
    "    #最新ツイートボタン押す\n",
    "    a = driver.find_element_by_xpath(\"/html/body/div[1]/div/div/div[2]/main/div/div/div/div/div/div[1]/div[1]/div[2]/nav/div/div[2]/div/div[2]/a\")\n",
    "    a.click()\n",
    "\n",
    "    time.sleep(4)\n",
    "\n",
    "\n",
    "\n",
    "\n",
    "    count=0\n",
    "\n",
    "    while True:\n",
    "        #ツイートを取得\n",
    "        a = driver.find_elements_by_xpath(\"/html/body/div[1]/div/div/div[2]/main/div/div/div/div/div/div[2]/div/section/div/div/div\")\n",
    "        if len(a)==0:\n",
    "            print(\"ツイートなし\")\n",
    "            break\n",
    "\n",
    "        for i in range(1,len(a)+1):\n",
    "            x_path = \"/html/body/div[1]/div/div/div[2]/main/div/div/div/div/div/div[2]/div/section/div/div/div[\"+str(i)+\"]/div/div/article/div/div/div/div[2]/div[2]/div[1]/div/div/div[2]/div/div/div/div\"\n",
    "            detail_button = driver.find_elements_by_xpath(x_path)\n",
    "            if len(detail_button)==0:\n",
    "                continue\n",
    "            driver.execute_script(\"arguments[0].click();\",detail_button[0])\n",
    "            time.sleep(1)\n",
    "\n",
    "            block_button = driver.find_elements_by_xpath(\"/html/body/div[1]/div/div/div[1]/div[2]/div/div/div/div[2]/div[3]/div/div/div/div\")\n",
    "            if len(block_button)==3:#ブロックしている時\n",
    "                continue\n",
    "            elif len(block_button)==5:\n",
    "                block_button[2].click()\n",
    "            else:\n",
    "                continue\n",
    "            time.sleep(1)\n",
    "\n",
    "            block = driver.find_element_by_xpath(\"/html/body/div[1]/div/div/div[1]/div[2]/div/div/div/div/div/div[2]/div[2]/div[2]/div[1]\")\n",
    "            block.click()\n",
    "            count=count+1\n",
    "            print(str(count)+\"回ブロックしました\")\n",
    "            time.sleep(1)\n",
    "        \n",
    "        search_input = driver.find_element_by_xpath(\"/html/body/div[1]/div/div/div[2]/main/div/div/div/div/div/div[1]/div[1]/div/div/div/div/div[2]/div[2]/div/div/div/form/div[1]/div/div/label/div[2]/div/input\")\n",
    "        search_input.send_keys(keys.ENTER)"
   ]
  },
  {
   "cell_type": "code",
   "execution_count": 23,
   "id": "f0a37f87-7c7c-4503-bc2f-a2069c7e09d9",
   "metadata": {},
   "outputs": [
    {
     "name": "stderr",
     "output_type": "stream",
     "text": [
      "/Users/taniguchiyuujin/Desktop/sidejob/twitter_block_searches.py:36: DeprecationWarning: executable_path has been deprecated, please pass in a Service object\n",
      "  driver = webdriver.Chrome(ChromeDriverManager().install())\n"
     ]
    },
    {
     "name": "stdout",
     "output_type": "stream",
     "text": [
      "検索ワード一つ目\n",
      "https://twitter.com/explore\n"
     ]
    },
    {
     "name": "stderr",
     "output_type": "stream",
     "text": [
      "/Users/taniguchiyuujin/Desktop/sidejob/twitter_block_searches.py:92: DeprecationWarning: find_element_by_* commands are deprecated. Please use find_element() instead\n",
      "  a = driver.find_element_by_xpath(\"/html/body/div[1]/div/div/div[2]/main/div/div/div/div/div/div[1]/div[2]/nav/div/div[2]/div/div[2]/a\")\n",
      "/Users/taniguchiyuujin/Desktop/sidejob/twitter_block_searches.py:104: DeprecationWarning: find_elements_by_* commands are deprecated. Please use find_elements() instead\n",
      "  a = driver.find_elements_by_xpath(\"/html/body/div[1]/div/div/div[2]/main/div/div/div/div/div/div[2]/div/section/div/div/div\")\n",
      "/Users/taniguchiyuujin/Desktop/sidejob/twitter_block_searches.py:111: DeprecationWarning: find_elements_by_* commands are deprecated. Please use find_elements() instead\n",
      "  detail_button = driver.find_elements_by_xpath(x_path)\n",
      "/Users/taniguchiyuujin/Desktop/sidejob/twitter_block_searches.py:132: DeprecationWarning: find_element_by_* commands are deprecated. Please use find_element() instead\n",
      "  search_input = driver.find_element_by_xpath(\"/html/body/div[1]/div/div/div[2]/main/div/div/div/div/div/div[1]/div[1]/div/div/div/div/div[2]/div[2]/div/div/div/form/div[1]/div/div/label/div[2]/div/input\")\n"
     ]
    },
    {
     "ename": "NoSuchElementException",
     "evalue": "Message: no such element: Unable to locate element: {\"method\":\"xpath\",\"selector\":\"/html/body/div[1]/div/div/div[2]/main/div/div/div/div/div/div[1]/div[1]/div/div/div/div/div[2]/div[2]/div/div/div/form/div[1]/div/div/label/div[2]/div/input\"}\n  (Session info: chrome=105.0.5195.125)\nStacktrace:\n0   chromedriver                        0x0000000103385788 chromedriver + 4515720\n1   chromedriver                        0x00000001033099d3 chromedriver + 4008403\n2   chromedriver                        0x0000000102f9c12a chromedriver + 413994\n3   chromedriver                        0x0000000102fd3873 chromedriver + 641139\n4   chromedriver                        0x0000000102fd3a61 chromedriver + 641633\n5   chromedriver                        0x0000000103005f64 chromedriver + 847716\n6   chromedriver                        0x0000000102ff07fd chromedriver + 759805\n7   chromedriver                        0x0000000103003bd9 chromedriver + 838617\n8   chromedriver                        0x0000000102ff0603 chromedriver + 759299\n9   chromedriver                        0x0000000102fc6990 chromedriver + 588176\n10  chromedriver                        0x0000000102fc7a75 chromedriver + 592501\n11  chromedriver                        0x00000001033556cd chromedriver + 4318925\n12  chromedriver                        0x0000000103359f35 chromedriver + 4337461\n13  chromedriver                        0x00000001033611ff chromedriver + 4366847\n14  chromedriver                        0x000000010335ac5a chromedriver + 4340826\n15  chromedriver                        0x0000000103330c2c chromedriver + 4168748\n16  chromedriver                        0x00000001033774f8 chromedriver + 4457720\n17  chromedriver                        0x0000000103377693 chromedriver + 4458131\n18  chromedriver                        0x000000010338ca3e chromedriver + 4545086\n19  libsystem_pthread.dylib             0x00007fff206108fc _pthread_start + 224\n20  libsystem_pthread.dylib             0x00007fff2060c443 thread_start + 15\n",
     "output_type": "error",
     "traceback": [
      "\u001b[0;31m---------------------------------------------------------------------------\u001b[0m",
      "\u001b[0;31mNoSuchElementException\u001b[0m                    Traceback (most recent call last)",
      "File \u001b[0;32m~/Desktop/sidejob/twitter_block_searches.py:132\u001b[0m, in \u001b[0;36m<module>\u001b[0;34m\u001b[0m\n\u001b[1;32m    129\u001b[0m     \u001b[38;5;28mprint\u001b[39m(\u001b[38;5;28mstr\u001b[39m(count)\u001b[38;5;241m+\u001b[39m\u001b[38;5;124m\"\u001b[39m\u001b[38;5;124m回ブロックしました\u001b[39m\u001b[38;5;124m\"\u001b[39m)\n\u001b[1;32m    130\u001b[0m     time\u001b[38;5;241m.\u001b[39msleep(\u001b[38;5;241m1\u001b[39m)\n\u001b[0;32m--> 132\u001b[0m search_input \u001b[38;5;241m=\u001b[39m \u001b[43mdriver\u001b[49m\u001b[38;5;241;43m.\u001b[39;49m\u001b[43mfind_element_by_xpath\u001b[49m\u001b[43m(\u001b[49m\u001b[38;5;124;43m\"\u001b[39;49m\u001b[38;5;124;43m/html/body/div[1]/div/div/div[2]/main/div/div/div/div/div/div[1]/div[1]/div/div/div/div/div[2]/div[2]/div/div/div/form/div[1]/div/div/label/div[2]/div/input\u001b[39;49m\u001b[38;5;124;43m\"\u001b[39;49m\u001b[43m)\u001b[49m\n\u001b[1;32m    133\u001b[0m search_input\u001b[38;5;241m.\u001b[39msend_keys(keys\u001b[38;5;241m.\u001b[39mENTER)\n",
      "File \u001b[0;32m~/.pyenv/versions/3.10.0/lib/python3.10/site-packages/selenium/webdriver/remote/webdriver.py:520\u001b[0m, in \u001b[0;36mWebDriver.find_element_by_xpath\u001b[0;34m(self, xpath)\u001b[0m\n\u001b[1;32m    498\u001b[0m \u001b[38;5;124;03m\"\"\"\u001b[39;00m\n\u001b[1;32m    499\u001b[0m \u001b[38;5;124;03mFinds an element by xpath.\u001b[39;00m\n\u001b[1;32m    500\u001b[0m \n\u001b[0;32m   (...)\u001b[0m\n\u001b[1;32m    513\u001b[0m \u001b[38;5;124;03m        element = driver.find_element_by_xpath('//div/td[1]')\u001b[39;00m\n\u001b[1;32m    514\u001b[0m \u001b[38;5;124;03m\"\"\"\u001b[39;00m\n\u001b[1;32m    515\u001b[0m warnings\u001b[38;5;241m.\u001b[39mwarn(\n\u001b[1;32m    516\u001b[0m     \u001b[38;5;124m\"\u001b[39m\u001b[38;5;124mfind_element_by_* commands are deprecated. Please use find_element() instead\u001b[39m\u001b[38;5;124m\"\u001b[39m,\n\u001b[1;32m    517\u001b[0m     \u001b[38;5;167;01mDeprecationWarning\u001b[39;00m,\n\u001b[1;32m    518\u001b[0m     stacklevel\u001b[38;5;241m=\u001b[39m\u001b[38;5;241m2\u001b[39m,\n\u001b[1;32m    519\u001b[0m )\n\u001b[0;32m--> 520\u001b[0m \u001b[38;5;28;01mreturn\u001b[39;00m \u001b[38;5;28;43mself\u001b[39;49m\u001b[38;5;241;43m.\u001b[39;49m\u001b[43mfind_element\u001b[49m\u001b[43m(\u001b[49m\u001b[43mby\u001b[49m\u001b[38;5;241;43m=\u001b[39;49m\u001b[43mBy\u001b[49m\u001b[38;5;241;43m.\u001b[39;49m\u001b[43mXPATH\u001b[49m\u001b[43m,\u001b[49m\u001b[43m \u001b[49m\u001b[43mvalue\u001b[49m\u001b[38;5;241;43m=\u001b[39;49m\u001b[43mxpath\u001b[49m\u001b[43m)\u001b[49m\n",
      "File \u001b[0;32m~/.pyenv/versions/3.10.0/lib/python3.10/site-packages/selenium/webdriver/remote/webdriver.py:1244\u001b[0m, in \u001b[0;36mWebDriver.find_element\u001b[0;34m(self, by, value)\u001b[0m\n\u001b[1;32m   1241\u001b[0m     by \u001b[38;5;241m=\u001b[39m By\u001b[38;5;241m.\u001b[39mCSS_SELECTOR\n\u001b[1;32m   1242\u001b[0m     value \u001b[38;5;241m=\u001b[39m \u001b[38;5;124m'\u001b[39m\u001b[38;5;124m[name=\u001b[39m\u001b[38;5;124m\"\u001b[39m\u001b[38;5;132;01m%s\u001b[39;00m\u001b[38;5;124m\"\u001b[39m\u001b[38;5;124m]\u001b[39m\u001b[38;5;124m'\u001b[39m \u001b[38;5;241m%\u001b[39m value\n\u001b[0;32m-> 1244\u001b[0m \u001b[38;5;28;01mreturn\u001b[39;00m \u001b[38;5;28;43mself\u001b[39;49m\u001b[38;5;241;43m.\u001b[39;49m\u001b[43mexecute\u001b[49m\u001b[43m(\u001b[49m\u001b[43mCommand\u001b[49m\u001b[38;5;241;43m.\u001b[39;49m\u001b[43mFIND_ELEMENT\u001b[49m\u001b[43m,\u001b[49m\u001b[43m \u001b[49m\u001b[43m{\u001b[49m\n\u001b[1;32m   1245\u001b[0m \u001b[43m    \u001b[49m\u001b[38;5;124;43m'\u001b[39;49m\u001b[38;5;124;43musing\u001b[39;49m\u001b[38;5;124;43m'\u001b[39;49m\u001b[43m:\u001b[49m\u001b[43m \u001b[49m\u001b[43mby\u001b[49m\u001b[43m,\u001b[49m\n\u001b[1;32m   1246\u001b[0m \u001b[43m    \u001b[49m\u001b[38;5;124;43m'\u001b[39;49m\u001b[38;5;124;43mvalue\u001b[39;49m\u001b[38;5;124;43m'\u001b[39;49m\u001b[43m:\u001b[49m\u001b[43m \u001b[49m\u001b[43mvalue\u001b[49m\u001b[43m}\u001b[49m\u001b[43m)\u001b[49m[\u001b[38;5;124m'\u001b[39m\u001b[38;5;124mvalue\u001b[39m\u001b[38;5;124m'\u001b[39m]\n",
      "File \u001b[0;32m~/.pyenv/versions/3.10.0/lib/python3.10/site-packages/selenium/webdriver/remote/webdriver.py:424\u001b[0m, in \u001b[0;36mWebDriver.execute\u001b[0;34m(self, driver_command, params)\u001b[0m\n\u001b[1;32m    422\u001b[0m response \u001b[38;5;241m=\u001b[39m \u001b[38;5;28mself\u001b[39m\u001b[38;5;241m.\u001b[39mcommand_executor\u001b[38;5;241m.\u001b[39mexecute(driver_command, params)\n\u001b[1;32m    423\u001b[0m \u001b[38;5;28;01mif\u001b[39;00m response:\n\u001b[0;32m--> 424\u001b[0m     \u001b[38;5;28;43mself\u001b[39;49m\u001b[38;5;241;43m.\u001b[39;49m\u001b[43merror_handler\u001b[49m\u001b[38;5;241;43m.\u001b[39;49m\u001b[43mcheck_response\u001b[49m\u001b[43m(\u001b[49m\u001b[43mresponse\u001b[49m\u001b[43m)\u001b[49m\n\u001b[1;32m    425\u001b[0m     response[\u001b[38;5;124m'\u001b[39m\u001b[38;5;124mvalue\u001b[39m\u001b[38;5;124m'\u001b[39m] \u001b[38;5;241m=\u001b[39m \u001b[38;5;28mself\u001b[39m\u001b[38;5;241m.\u001b[39m_unwrap_value(\n\u001b[1;32m    426\u001b[0m         response\u001b[38;5;241m.\u001b[39mget(\u001b[38;5;124m'\u001b[39m\u001b[38;5;124mvalue\u001b[39m\u001b[38;5;124m'\u001b[39m, \u001b[38;5;28;01mNone\u001b[39;00m))\n\u001b[1;32m    427\u001b[0m     \u001b[38;5;28;01mreturn\u001b[39;00m response\n",
      "File \u001b[0;32m~/.pyenv/versions/3.10.0/lib/python3.10/site-packages/selenium/webdriver/remote/errorhandler.py:247\u001b[0m, in \u001b[0;36mErrorHandler.check_response\u001b[0;34m(self, response)\u001b[0m\n\u001b[1;32m    245\u001b[0m         alert_text \u001b[38;5;241m=\u001b[39m value[\u001b[38;5;124m'\u001b[39m\u001b[38;5;124malert\u001b[39m\u001b[38;5;124m'\u001b[39m]\u001b[38;5;241m.\u001b[39mget(\u001b[38;5;124m'\u001b[39m\u001b[38;5;124mtext\u001b[39m\u001b[38;5;124m'\u001b[39m)\n\u001b[1;32m    246\u001b[0m     \u001b[38;5;28;01mraise\u001b[39;00m exception_class(message, screen, stacktrace, alert_text)  \u001b[38;5;66;03m# type: ignore[call-arg]  # mypy is not smart enough here\u001b[39;00m\n\u001b[0;32m--> 247\u001b[0m \u001b[38;5;28;01mraise\u001b[39;00m exception_class(message, screen, stacktrace)\n",
      "\u001b[0;31mNoSuchElementException\u001b[0m: Message: no such element: Unable to locate element: {\"method\":\"xpath\",\"selector\":\"/html/body/div[1]/div/div/div[2]/main/div/div/div/div/div/div[1]/div[1]/div/div/div/div/div[2]/div[2]/div/div/div/form/div[1]/div/div/label/div[2]/div/input\"}\n  (Session info: chrome=105.0.5195.125)\nStacktrace:\n0   chromedriver                        0x0000000103385788 chromedriver + 4515720\n1   chromedriver                        0x00000001033099d3 chromedriver + 4008403\n2   chromedriver                        0x0000000102f9c12a chromedriver + 413994\n3   chromedriver                        0x0000000102fd3873 chromedriver + 641139\n4   chromedriver                        0x0000000102fd3a61 chromedriver + 641633\n5   chromedriver                        0x0000000103005f64 chromedriver + 847716\n6   chromedriver                        0x0000000102ff07fd chromedriver + 759805\n7   chromedriver                        0x0000000103003bd9 chromedriver + 838617\n8   chromedriver                        0x0000000102ff0603 chromedriver + 759299\n9   chromedriver                        0x0000000102fc6990 chromedriver + 588176\n10  chromedriver                        0x0000000102fc7a75 chromedriver + 592501\n11  chromedriver                        0x00000001033556cd chromedriver + 4318925\n12  chromedriver                        0x0000000103359f35 chromedriver + 4337461\n13  chromedriver                        0x00000001033611ff chromedriver + 4366847\n14  chromedriver                        0x000000010335ac5a chromedriver + 4340826\n15  chromedriver                        0x0000000103330c2c chromedriver + 4168748\n16  chromedriver                        0x00000001033774f8 chromedriver + 4457720\n17  chromedriver                        0x0000000103377693 chromedriver + 4458131\n18  chromedriver                        0x000000010338ca3e chromedriver + 4545086\n19  libsystem_pthread.dylib             0x00007fff206108fc _pthread_start + 224\n20  libsystem_pthread.dylib             0x00007fff2060c443 thread_start + 15\n"
     ]
    }
   ],
   "source": [
    "%run twitter_block_searches.py"
   ]
  },
  {
   "cell_type": "code",
   "execution_count": 29,
   "id": "654fc0d9-945e-41a4-b026-6b9130b83e5f",
   "metadata": {},
   "outputs": [
    {
     "name": "stderr",
     "output_type": "stream",
     "text": [
      "/Users/taniguchiyuujin/Desktop/sidejob/twitter_block_searches.py:36: DeprecationWarning: executable_path has been deprecated, please pass in a Service object\n",
      "  driver = webdriver.Chrome(ChromeDriverManager().install())\n"
     ]
    },
    {
     "name": "stdout",
     "output_type": "stream",
     "text": [
      "検索ワード一つ目\n",
      "https://twitter.com/explore\n"
     ]
    },
    {
     "name": "stderr",
     "output_type": "stream",
     "text": [
      "/Users/taniguchiyuujin/Desktop/sidejob/twitter_block_searches.py:113: DeprecationWarning: find_elements_by_* commands are deprecated. Please use find_elements() instead\n",
      "  detail_button = driver.find_elements_by_xpath(x_path)\n"
     ]
    },
    {
     "ename": "NameError",
     "evalue": "name 'search_input' is not defined",
     "output_type": "error",
     "traceback": [
      "\u001b[0;31m---------------------------------------------------------------------------\u001b[0m",
      "\u001b[0;31mNameError\u001b[0m                                 Traceback (most recent call last)",
      "File \u001b[0;32m~/Desktop/sidejob/twitter_block_searches.py:136\u001b[0m, in \u001b[0;36m<module>\u001b[0;34m\u001b[0m\n\u001b[1;32m    134\u001b[0m \u001b[38;5;66;03m# search_input = driver.find_element_by_xpath(\"/html/body/div[1]/div/div/div[2]/main/div/div/div/div/div/div[1]/div[1]/div/div/div/div/div[2]/div[2]/div/div/div/form/div[1]/div/div/label/div[2]/div/input\")\u001b[39;00m\n\u001b[1;32m    135\u001b[0m     search_input \u001b[38;5;241m=\u001b[39m driver\u001b[38;5;241m.\u001b[39mfind_element_by_xpath(\u001b[38;5;124m\"\u001b[39m\u001b[38;5;124m/html/body/div[1]/div/div/div[2]/main/div/div/div/div/div/div[1]/div[1]/div[1]/div/div/div/div/div[1]/div[2]/div/div/div/form/div[1]/div/div/div/label/div[2]/div/input\u001b[39m\u001b[38;5;124m\"\u001b[39m)\n\u001b[0;32m--> 136\u001b[0m \u001b[43msearch_input\u001b[49m\u001b[38;5;241m.\u001b[39msend_keys(keys\u001b[38;5;241m.\u001b[39mENTER)\n",
      "\u001b[0;31mNameError\u001b[0m: name 'search_input' is not defined"
     ]
    }
   ],
   "source": [
    "%run twitter_block_searches.py"
   ]
  },
  {
   "cell_type": "code",
   "execution_count": 31,
   "id": "74b7d2f5-f254-4159-8c84-db78dd3130a9",
   "metadata": {},
   "outputs": [
    {
     "name": "stderr",
     "output_type": "stream",
     "text": [
      "/Users/taniguchiyuujin/Desktop/sidejob/twitter_block_searches.py:36: DeprecationWarning: executable_path has been deprecated, please pass in a Service object\n",
      "  driver = webdriver.Chrome(ChromeDriverManager().install())\n"
     ]
    },
    {
     "name": "stdout",
     "output_type": "stream",
     "text": [
      "検索ワード一つ目\n",
      "https://twitter.com/explore\n"
     ]
    },
    {
     "ename": "TypeError",
     "evalue": "object of type 'WebElement' has no len()",
     "output_type": "error",
     "traceback": [
      "\u001b[0;31m---------------------------------------------------------------------------\u001b[0m",
      "\u001b[0;31mTypeError\u001b[0m                                 Traceback (most recent call last)",
      "File \u001b[0;32m~/Desktop/sidejob/twitter_block_searches.py:107\u001b[0m, in \u001b[0;36m<module>\u001b[0;34m\u001b[0m\n\u001b[1;32m    103\u001b[0m \u001b[38;5;28;01mwhile\u001b[39;00m \u001b[38;5;28;01mTrue\u001b[39;00m:\n\u001b[1;32m    104\u001b[0m     \u001b[38;5;66;03m#ツイートを取得\u001b[39;00m\n\u001b[1;32m    105\u001b[0m     \u001b[38;5;66;03m# a = driver.find_elements_by_xpath(\"/html/body/div[1]/div/div/div[2]/main/div/div/div/div/div/div[2]/div/section/div/div/div\")\u001b[39;00m\n\u001b[1;32m    106\u001b[0m     a \u001b[38;5;241m=\u001b[39m driver\u001b[38;5;241m.\u001b[39mfind_element(By\u001b[38;5;241m.\u001b[39mXPATH,\u001b[38;5;124m\"\u001b[39m\u001b[38;5;124m/html/body/div[1]/div/div/div[2]/main/div/div/div/div/div/div[2]/div/section/div/div/div\u001b[39m\u001b[38;5;124m\"\u001b[39m)\n\u001b[0;32m--> 107\u001b[0m     \u001b[38;5;28;01mif\u001b[39;00m \u001b[38;5;28;43mlen\u001b[39;49m\u001b[43m(\u001b[49m\u001b[43ma\u001b[49m\u001b[43m)\u001b[49m\u001b[38;5;241m==\u001b[39m\u001b[38;5;241m0\u001b[39m:\n\u001b[1;32m    108\u001b[0m         \u001b[38;5;28mprint\u001b[39m(\u001b[38;5;124m\"\u001b[39m\u001b[38;5;124mツイートなし\u001b[39m\u001b[38;5;124m\"\u001b[39m)\n\u001b[1;32m    109\u001b[0m         \u001b[38;5;28;01mbreak\u001b[39;00m\n",
      "\u001b[0;31mTypeError\u001b[0m: object of type 'WebElement' has no len()"
     ]
    }
   ],
   "source": [
    "%run twitter_block_searches.py"
   ]
  },
  {
   "cell_type": "code",
   "execution_count": 32,
   "id": "90c05bac-0ca5-431e-ac6a-02a04e517398",
   "metadata": {},
   "outputs": [
    {
     "name": "stderr",
     "output_type": "stream",
     "text": [
      "/Users/taniguchiyuujin/Desktop/sidejob/twitter_block_searches.py:36: DeprecationWarning: executable_path has been deprecated, please pass in a Service object\n",
      "  driver = webdriver.Chrome(ChromeDriverManager().install())\n"
     ]
    },
    {
     "name": "stdout",
     "output_type": "stream",
     "text": [
      "検索ワード一つ目\n",
      "https://twitter.com/explore\n"
     ]
    },
    {
     "ename": "TypeError",
     "evalue": "object of type 'WebElement' has no len()",
     "output_type": "error",
     "traceback": [
      "\u001b[0;31m---------------------------------------------------------------------------\u001b[0m",
      "\u001b[0;31mTypeError\u001b[0m                                 Traceback (most recent call last)",
      "File \u001b[0;32m~/Desktop/sidejob/twitter_block_searches.py:107\u001b[0m, in \u001b[0;36m<module>\u001b[0;34m\u001b[0m\n\u001b[1;32m    103\u001b[0m \u001b[38;5;28;01mwhile\u001b[39;00m \u001b[38;5;28;01mTrue\u001b[39;00m:\n\u001b[1;32m    104\u001b[0m     \u001b[38;5;66;03m#ツイートを取得\u001b[39;00m\n\u001b[1;32m    105\u001b[0m     \u001b[38;5;66;03m# a = driver.find_elements_by_xpath(\"/html/body/div[1]/div/div/div[2]/main/div/div/div/div/div/div[2]/div/section/div/div/div\")\u001b[39;00m\n\u001b[1;32m    106\u001b[0m     a \u001b[38;5;241m=\u001b[39m driver\u001b[38;5;241m.\u001b[39mfind_element(By\u001b[38;5;241m.\u001b[39mXPATH,\u001b[38;5;124m\"\u001b[39m\u001b[38;5;124m/html/body/div[1]/div/div/div[2]/main/div/div/div/div/div/div[2]/div/section/div/div/div\u001b[39m\u001b[38;5;124m\"\u001b[39m)\n\u001b[0;32m--> 107\u001b[0m     \u001b[38;5;28;01mif\u001b[39;00m \u001b[38;5;28;43mlen\u001b[39;49m\u001b[43m(\u001b[49m\u001b[43ma\u001b[49m\u001b[43m)\u001b[49m\u001b[38;5;241m==\u001b[39m\u001b[38;5;241m0\u001b[39m:\n\u001b[1;32m    108\u001b[0m         \u001b[38;5;28mprint\u001b[39m(\u001b[38;5;124m\"\u001b[39m\u001b[38;5;124mツイートなし\u001b[39m\u001b[38;5;124m\"\u001b[39m)\n\u001b[1;32m    109\u001b[0m         \u001b[38;5;28;01mbreak\u001b[39;00m\n",
      "\u001b[0;31mTypeError\u001b[0m: object of type 'WebElement' has no len()"
     ]
    }
   ],
   "source": [
    "%run twitter_block_searches.py"
   ]
  },
  {
   "cell_type": "code",
   "execution_count": 33,
   "id": "d7df8d99-6080-484e-bd1b-36d658674d88",
   "metadata": {},
   "outputs": [
    {
     "name": "stderr",
     "output_type": "stream",
     "text": [
      "/Users/taniguchiyuujin/Desktop/sidejob/twitter_block_searches.py:36: DeprecationWarning: executable_path has been deprecated, please pass in a Service object\n",
      "  driver = webdriver.Chrome(ChromeDriverManager().install())\n"
     ]
    },
    {
     "name": "stdout",
     "output_type": "stream",
     "text": [
      "検索ワード一つ目\n",
      "https://twitter.com/explore\n"
     ]
    },
    {
     "ename": "NameError",
     "evalue": "name 'search_input' is not defined",
     "output_type": "error",
     "traceback": [
      "\u001b[0;31m---------------------------------------------------------------------------\u001b[0m",
      "\u001b[0;31mNameError\u001b[0m                                 Traceback (most recent call last)",
      "File \u001b[0;32m~/Desktop/sidejob/twitter_block_searches.py:137\u001b[0m, in \u001b[0;36m<module>\u001b[0;34m\u001b[0m\n\u001b[1;32m    135\u001b[0m \u001b[38;5;66;03m# search_input = driver.find_element_by_xpath(\"/html/body/div[1]/div/div/div[2]/main/div/div/div/div/div/div[1]/div[1]/div/div/div/div/div[2]/div[2]/div/div/div/form/div[1]/div/div/label/div[2]/div/input\")\u001b[39;00m\n\u001b[1;32m    136\u001b[0m     search_input \u001b[38;5;241m=\u001b[39m              driver\u001b[38;5;241m.\u001b[39mfind_element_by_xpath(\u001b[38;5;124m\"\u001b[39m\u001b[38;5;124m/html/body/div[1]/div/div/div[2]/main/div/div/div/div/div/div[1]/div[1]/div[1]/div/div/div/div/div[1]/div[2]/div/div/div/form/div[1]/div/div/div/label/div[2]/div/input\u001b[39m\u001b[38;5;124m\"\u001b[39m)\n\u001b[0;32m--> 137\u001b[0m \u001b[43msearch_input\u001b[49m\u001b[38;5;241m.\u001b[39msend_keys(keys\u001b[38;5;241m.\u001b[39mENTER)\n",
      "\u001b[0;31mNameError\u001b[0m: name 'search_input' is not defined"
     ]
    }
   ],
   "source": [
    "%run twitter_block_searches.py"
   ]
  },
  {
   "cell_type": "code",
   "execution_count": 34,
   "id": "c16dea30-2dbf-4648-ab4f-43e4a4e601ef",
   "metadata": {},
   "outputs": [
    {
     "name": "stderr",
     "output_type": "stream",
     "text": [
      "/Users/taniguchiyuujin/Desktop/sidejob/twitter_block_searches.py:36: DeprecationWarning: executable_path has been deprecated, please pass in a Service object\n",
      "  driver = webdriver.Chrome(ChromeDriverManager().install())\n"
     ]
    },
    {
     "name": "stdout",
     "output_type": "stream",
     "text": [
      "検索ワード一つ目\n",
      "https://twitter.com/explore\n"
     ]
    },
    {
     "name": "stderr",
     "output_type": "stream",
     "text": [
      "/Users/taniguchiyuujin/Desktop/sidejob/twitter_block_searches.py:136: DeprecationWarning: find_element_by_* commands are deprecated. Please use find_element() instead\n",
      "  search_input =              driver.find_element_by_xpath(\"/html/body/div[1]/div/div/div[2]/main/div/div/div/div/div/div[1]/div[1]/div[1]/div/div/div/div/div[1]/div[2]/div/div/div/form/div[1]/div/div/div/label/div[2]/div/input\")\n"
     ]
    },
    {
     "ename": "NoSuchElementException",
     "evalue": "Message: no such element: Unable to locate element: {\"method\":\"xpath\",\"selector\":\"/html/body/div[1]/div/div/div[2]/main/div/div/div/div/div/div[1]/div[1]/div[1]/div/div/div/div/div[1]/div[2]/div/div/div/form/div[1]/div/div/div/label/div[2]/div/input\"}\n  (Session info: chrome=105.0.5195.125)\nStacktrace:\n0   chromedriver                        0x00000001102e7788 chromedriver + 4515720\n1   chromedriver                        0x000000011026b9d3 chromedriver + 4008403\n2   chromedriver                        0x000000010fefe12a chromedriver + 413994\n3   chromedriver                        0x000000010ff35873 chromedriver + 641139\n4   chromedriver                        0x000000010ff35a61 chromedriver + 641633\n5   chromedriver                        0x000000010ff67f64 chromedriver + 847716\n6   chromedriver                        0x000000010ff527fd chromedriver + 759805\n7   chromedriver                        0x000000010ff65bd9 chromedriver + 838617\n8   chromedriver                        0x000000010ff52603 chromedriver + 759299\n9   chromedriver                        0x000000010ff28990 chromedriver + 588176\n10  chromedriver                        0x000000010ff29a75 chromedriver + 592501\n11  chromedriver                        0x00000001102b76cd chromedriver + 4318925\n12  chromedriver                        0x00000001102bbf35 chromedriver + 4337461\n13  chromedriver                        0x00000001102c31ff chromedriver + 4366847\n14  chromedriver                        0x00000001102bcc5a chromedriver + 4340826\n15  chromedriver                        0x0000000110292c2c chromedriver + 4168748\n16  chromedriver                        0x00000001102d94f8 chromedriver + 4457720\n17  chromedriver                        0x00000001102d9693 chromedriver + 4458131\n18  chromedriver                        0x00000001102eea3e chromedriver + 4545086\n19  libsystem_pthread.dylib             0x00007fff206108fc _pthread_start + 224\n20  libsystem_pthread.dylib             0x00007fff2060c443 thread_start + 15\n",
     "output_type": "error",
     "traceback": [
      "\u001b[0;31m---------------------------------------------------------------------------\u001b[0m",
      "\u001b[0;31mNoSuchElementException\u001b[0m                    Traceback (most recent call last)",
      "File \u001b[0;32m~/Desktop/sidejob/twitter_block_searches.py:136\u001b[0m, in \u001b[0;36m<module>\u001b[0;34m\u001b[0m\n\u001b[1;32m    133\u001b[0m     time\u001b[38;5;241m.\u001b[39msleep(\u001b[38;5;241m1\u001b[39m)\n\u001b[1;32m    135\u001b[0m \u001b[38;5;66;03m# search_input = driver.find_element_by_xpath(\"/html/body/div[1]/div/div/div[2]/main/div/div/div/div/div/div[1]/div[1]/div/div/div/div/div[2]/div[2]/div/div/div/form/div[1]/div/div/label/div[2]/div/input\")\u001b[39;00m\n\u001b[0;32m--> 136\u001b[0m search_input \u001b[38;5;241m=\u001b[39m \u001b[43mdriver\u001b[49m\u001b[38;5;241;43m.\u001b[39;49m\u001b[43mfind_element_by_xpath\u001b[49m\u001b[43m(\u001b[49m\u001b[38;5;124;43m\"\u001b[39;49m\u001b[38;5;124;43m/html/body/div[1]/div/div/div[2]/main/div/div/div/div/div/div[1]/div[1]/div[1]/div/div/div/div/div[1]/div[2]/div/div/div/form/div[1]/div/div/div/label/div[2]/div/input\u001b[39;49m\u001b[38;5;124;43m\"\u001b[39;49m\u001b[43m)\u001b[49m\n\u001b[1;32m    137\u001b[0m search_input\u001b[38;5;241m.\u001b[39msend_keys(keys\u001b[38;5;241m.\u001b[39mENTER)\n",
      "File \u001b[0;32m~/.pyenv/versions/3.10.0/lib/python3.10/site-packages/selenium/webdriver/remote/webdriver.py:520\u001b[0m, in \u001b[0;36mWebDriver.find_element_by_xpath\u001b[0;34m(self, xpath)\u001b[0m\n\u001b[1;32m    498\u001b[0m \u001b[38;5;124;03m\"\"\"\u001b[39;00m\n\u001b[1;32m    499\u001b[0m \u001b[38;5;124;03mFinds an element by xpath.\u001b[39;00m\n\u001b[1;32m    500\u001b[0m \n\u001b[0;32m   (...)\u001b[0m\n\u001b[1;32m    513\u001b[0m \u001b[38;5;124;03m        element = driver.find_element_by_xpath('//div/td[1]')\u001b[39;00m\n\u001b[1;32m    514\u001b[0m \u001b[38;5;124;03m\"\"\"\u001b[39;00m\n\u001b[1;32m    515\u001b[0m warnings\u001b[38;5;241m.\u001b[39mwarn(\n\u001b[1;32m    516\u001b[0m     \u001b[38;5;124m\"\u001b[39m\u001b[38;5;124mfind_element_by_* commands are deprecated. Please use find_element() instead\u001b[39m\u001b[38;5;124m\"\u001b[39m,\n\u001b[1;32m    517\u001b[0m     \u001b[38;5;167;01mDeprecationWarning\u001b[39;00m,\n\u001b[1;32m    518\u001b[0m     stacklevel\u001b[38;5;241m=\u001b[39m\u001b[38;5;241m2\u001b[39m,\n\u001b[1;32m    519\u001b[0m )\n\u001b[0;32m--> 520\u001b[0m \u001b[38;5;28;01mreturn\u001b[39;00m \u001b[38;5;28;43mself\u001b[39;49m\u001b[38;5;241;43m.\u001b[39;49m\u001b[43mfind_element\u001b[49m\u001b[43m(\u001b[49m\u001b[43mby\u001b[49m\u001b[38;5;241;43m=\u001b[39;49m\u001b[43mBy\u001b[49m\u001b[38;5;241;43m.\u001b[39;49m\u001b[43mXPATH\u001b[49m\u001b[43m,\u001b[49m\u001b[43m \u001b[49m\u001b[43mvalue\u001b[49m\u001b[38;5;241;43m=\u001b[39;49m\u001b[43mxpath\u001b[49m\u001b[43m)\u001b[49m\n",
      "File \u001b[0;32m~/.pyenv/versions/3.10.0/lib/python3.10/site-packages/selenium/webdriver/remote/webdriver.py:1244\u001b[0m, in \u001b[0;36mWebDriver.find_element\u001b[0;34m(self, by, value)\u001b[0m\n\u001b[1;32m   1241\u001b[0m     by \u001b[38;5;241m=\u001b[39m By\u001b[38;5;241m.\u001b[39mCSS_SELECTOR\n\u001b[1;32m   1242\u001b[0m     value \u001b[38;5;241m=\u001b[39m \u001b[38;5;124m'\u001b[39m\u001b[38;5;124m[name=\u001b[39m\u001b[38;5;124m\"\u001b[39m\u001b[38;5;132;01m%s\u001b[39;00m\u001b[38;5;124m\"\u001b[39m\u001b[38;5;124m]\u001b[39m\u001b[38;5;124m'\u001b[39m \u001b[38;5;241m%\u001b[39m value\n\u001b[0;32m-> 1244\u001b[0m \u001b[38;5;28;01mreturn\u001b[39;00m \u001b[38;5;28;43mself\u001b[39;49m\u001b[38;5;241;43m.\u001b[39;49m\u001b[43mexecute\u001b[49m\u001b[43m(\u001b[49m\u001b[43mCommand\u001b[49m\u001b[38;5;241;43m.\u001b[39;49m\u001b[43mFIND_ELEMENT\u001b[49m\u001b[43m,\u001b[49m\u001b[43m \u001b[49m\u001b[43m{\u001b[49m\n\u001b[1;32m   1245\u001b[0m \u001b[43m    \u001b[49m\u001b[38;5;124;43m'\u001b[39;49m\u001b[38;5;124;43musing\u001b[39;49m\u001b[38;5;124;43m'\u001b[39;49m\u001b[43m:\u001b[49m\u001b[43m \u001b[49m\u001b[43mby\u001b[49m\u001b[43m,\u001b[49m\n\u001b[1;32m   1246\u001b[0m \u001b[43m    \u001b[49m\u001b[38;5;124;43m'\u001b[39;49m\u001b[38;5;124;43mvalue\u001b[39;49m\u001b[38;5;124;43m'\u001b[39;49m\u001b[43m:\u001b[49m\u001b[43m \u001b[49m\u001b[43mvalue\u001b[49m\u001b[43m}\u001b[49m\u001b[43m)\u001b[49m[\u001b[38;5;124m'\u001b[39m\u001b[38;5;124mvalue\u001b[39m\u001b[38;5;124m'\u001b[39m]\n",
      "File \u001b[0;32m~/.pyenv/versions/3.10.0/lib/python3.10/site-packages/selenium/webdriver/remote/webdriver.py:424\u001b[0m, in \u001b[0;36mWebDriver.execute\u001b[0;34m(self, driver_command, params)\u001b[0m\n\u001b[1;32m    422\u001b[0m response \u001b[38;5;241m=\u001b[39m \u001b[38;5;28mself\u001b[39m\u001b[38;5;241m.\u001b[39mcommand_executor\u001b[38;5;241m.\u001b[39mexecute(driver_command, params)\n\u001b[1;32m    423\u001b[0m \u001b[38;5;28;01mif\u001b[39;00m response:\n\u001b[0;32m--> 424\u001b[0m     \u001b[38;5;28;43mself\u001b[39;49m\u001b[38;5;241;43m.\u001b[39;49m\u001b[43merror_handler\u001b[49m\u001b[38;5;241;43m.\u001b[39;49m\u001b[43mcheck_response\u001b[49m\u001b[43m(\u001b[49m\u001b[43mresponse\u001b[49m\u001b[43m)\u001b[49m\n\u001b[1;32m    425\u001b[0m     response[\u001b[38;5;124m'\u001b[39m\u001b[38;5;124mvalue\u001b[39m\u001b[38;5;124m'\u001b[39m] \u001b[38;5;241m=\u001b[39m \u001b[38;5;28mself\u001b[39m\u001b[38;5;241m.\u001b[39m_unwrap_value(\n\u001b[1;32m    426\u001b[0m         response\u001b[38;5;241m.\u001b[39mget(\u001b[38;5;124m'\u001b[39m\u001b[38;5;124mvalue\u001b[39m\u001b[38;5;124m'\u001b[39m, \u001b[38;5;28;01mNone\u001b[39;00m))\n\u001b[1;32m    427\u001b[0m     \u001b[38;5;28;01mreturn\u001b[39;00m response\n",
      "File \u001b[0;32m~/.pyenv/versions/3.10.0/lib/python3.10/site-packages/selenium/webdriver/remote/errorhandler.py:247\u001b[0m, in \u001b[0;36mErrorHandler.check_response\u001b[0;34m(self, response)\u001b[0m\n\u001b[1;32m    245\u001b[0m         alert_text \u001b[38;5;241m=\u001b[39m value[\u001b[38;5;124m'\u001b[39m\u001b[38;5;124malert\u001b[39m\u001b[38;5;124m'\u001b[39m]\u001b[38;5;241m.\u001b[39mget(\u001b[38;5;124m'\u001b[39m\u001b[38;5;124mtext\u001b[39m\u001b[38;5;124m'\u001b[39m)\n\u001b[1;32m    246\u001b[0m     \u001b[38;5;28;01mraise\u001b[39;00m exception_class(message, screen, stacktrace, alert_text)  \u001b[38;5;66;03m# type: ignore[call-arg]  # mypy is not smart enough here\u001b[39;00m\n\u001b[0;32m--> 247\u001b[0m \u001b[38;5;28;01mraise\u001b[39;00m exception_class(message, screen, stacktrace)\n",
      "\u001b[0;31mNoSuchElementException\u001b[0m: Message: no such element: Unable to locate element: {\"method\":\"xpath\",\"selector\":\"/html/body/div[1]/div/div/div[2]/main/div/div/div/div/div/div[1]/div[1]/div[1]/div/div/div/div/div[1]/div[2]/div/div/div/form/div[1]/div/div/div/label/div[2]/div/input\"}\n  (Session info: chrome=105.0.5195.125)\nStacktrace:\n0   chromedriver                        0x00000001102e7788 chromedriver + 4515720\n1   chromedriver                        0x000000011026b9d3 chromedriver + 4008403\n2   chromedriver                        0x000000010fefe12a chromedriver + 413994\n3   chromedriver                        0x000000010ff35873 chromedriver + 641139\n4   chromedriver                        0x000000010ff35a61 chromedriver + 641633\n5   chromedriver                        0x000000010ff67f64 chromedriver + 847716\n6   chromedriver                        0x000000010ff527fd chromedriver + 759805\n7   chromedriver                        0x000000010ff65bd9 chromedriver + 838617\n8   chromedriver                        0x000000010ff52603 chromedriver + 759299\n9   chromedriver                        0x000000010ff28990 chromedriver + 588176\n10  chromedriver                        0x000000010ff29a75 chromedriver + 592501\n11  chromedriver                        0x00000001102b76cd chromedriver + 4318925\n12  chromedriver                        0x00000001102bbf35 chromedriver + 4337461\n13  chromedriver                        0x00000001102c31ff chromedriver + 4366847\n14  chromedriver                        0x00000001102bcc5a chromedriver + 4340826\n15  chromedriver                        0x0000000110292c2c chromedriver + 4168748\n16  chromedriver                        0x00000001102d94f8 chromedriver + 4457720\n17  chromedriver                        0x00000001102d9693 chromedriver + 4458131\n18  chromedriver                        0x00000001102eea3e chromedriver + 4545086\n19  libsystem_pthread.dylib             0x00007fff206108fc _pthread_start + 224\n20  libsystem_pthread.dylib             0x00007fff2060c443 thread_start + 15\n"
     ]
    }
   ],
   "source": [
    "%run twitter_block_searches.py"
   ]
  },
  {
   "cell_type": "code",
   "execution_count": 48,
   "id": "865fb85e-320b-48af-adfe-baced726999c",
   "metadata": {},
   "outputs": [
    {
     "ename": "SyntaxError",
     "evalue": "invalid syntax (twitter_block_searches.py, line 112)",
     "output_type": "error",
     "traceback": [
      "\u001b[0;36m  File \u001b[0;32m~/Desktop/sidejob/twitter_block_searches.py:112\u001b[0;36m\u001b[0m\n\u001b[0;31m    x_path = /html/body/div[1]/div/div/div[2]/main/div/div/div/div/div/div[2]/div/section/div/div/div[\"+str(i)+\"]/div/div/div/article/div/div/div/div[2]/div[2]/div[1]/div/div/div[2]/div/div/div/div/div/div/svg\u001b[0m\n\u001b[0m             ^\u001b[0m\n\u001b[0;31mSyntaxError\u001b[0m\u001b[0;31m:\u001b[0m invalid syntax\n"
     ]
    }
   ],
   "source": [
    "%run twitter_block_searches.py"
   ]
  },
  {
   "cell_type": "code",
   "execution_count": 58,
   "id": "056d2e5f-5ae3-4565-af95-a15b32dd1f9a",
   "metadata": {},
   "outputs": [
    {
     "name": "stderr",
     "output_type": "stream",
     "text": [
      "/Users/taniguchiyuujin/Desktop/sidejob/twitter_block_searches.py:36: DeprecationWarning: executable_path has been deprecated, please pass in a Service object\n",
      "  driver = webdriver.Chrome(ChromeDriverManager().install())\n"
     ]
    },
    {
     "name": "stdout",
     "output_type": "stream",
     "text": [
      "検索ワード一つ目\n",
      "https://twitter.com/explore\n"
     ]
    },
    {
     "name": "stderr",
     "output_type": "stream",
     "text": [
      "/Users/taniguchiyuujin/Desktop/sidejob/twitter_block_searches.py:120: DeprecationWarning: find_elements_by_* commands are deprecated. Please use find_elements() instead\n",
      "  continue\n"
     ]
    },
    {
     "ename": "NoSuchElementException",
     "evalue": "Message: no such element: Unable to locate element: {\"method\":\"xpath\",\"selector\":\"/html/body/div[1]/div/div/div[2]/main/div/div/div/div/div/div[1]/div[1]/div[1]/div/div/div/div/div[1]/div[2]/div/div/div/form/div[1]/div/div/div/label/div[2]/div/input\"}\n  (Session info: chrome=105.0.5195.125)\nStacktrace:\n0   chromedriver                        0x0000000109eb4788 chromedriver + 4515720\n1   chromedriver                        0x0000000109e389d3 chromedriver + 4008403\n2   chromedriver                        0x0000000109acb12a chromedriver + 413994\n3   chromedriver                        0x0000000109b02873 chromedriver + 641139\n4   chromedriver                        0x0000000109b02a61 chromedriver + 641633\n5   chromedriver                        0x0000000109b34f64 chromedriver + 847716\n6   chromedriver                        0x0000000109b1f7fd chromedriver + 759805\n7   chromedriver                        0x0000000109b32bd9 chromedriver + 838617\n8   chromedriver                        0x0000000109b1f603 chromedriver + 759299\n9   chromedriver                        0x0000000109af5990 chromedriver + 588176\n10  chromedriver                        0x0000000109af6a75 chromedriver + 592501\n11  chromedriver                        0x0000000109e846cd chromedriver + 4318925\n12  chromedriver                        0x0000000109e88f35 chromedriver + 4337461\n13  chromedriver                        0x0000000109e901ff chromedriver + 4366847\n14  chromedriver                        0x0000000109e89c5a chromedriver + 4340826\n15  chromedriver                        0x0000000109e5fc2c chromedriver + 4168748\n16  chromedriver                        0x0000000109ea64f8 chromedriver + 4457720\n17  chromedriver                        0x0000000109ea6693 chromedriver + 4458131\n18  chromedriver                        0x0000000109ebba3e chromedriver + 4545086\n19  libsystem_pthread.dylib             0x00007fff206108fc _pthread_start + 224\n20  libsystem_pthread.dylib             0x00007fff2060c443 thread_start + 15\n",
     "output_type": "error",
     "traceback": [
      "\u001b[0;31m---------------------------------------------------------------------------\u001b[0m",
      "\u001b[0;31mNoSuchElementException\u001b[0m                    Traceback (most recent call last)",
      "File \u001b[0;32m~/Desktop/sidejob/twitter_block_searches.py:136\u001b[0m, in \u001b[0;36m<module>\u001b[0;34m\u001b[0m\n\u001b[1;32m    133\u001b[0m     time\u001b[38;5;241m.\u001b[39msleep(\u001b[38;5;241m1\u001b[39m)\n\u001b[1;32m    135\u001b[0m \u001b[38;5;66;03m# search_input = driver.find_element_by_xpath(\"/html/body/div[1]/div/div/div[2]/main/div/div/div/div/div/div[1]/div[1]/div/div/div/div/div[2]/div[2]/div/div/div/form/div[1]/div/div/label/div[2]/div/input\")\u001b[39;00m\n\u001b[0;32m--> 136\u001b[0m search_input \u001b[38;5;241m=\u001b[39m \u001b[43mdriver\u001b[49m\u001b[38;5;241;43m.\u001b[39;49m\u001b[43mfind_elements\u001b[49m\u001b[43m(\u001b[49m\u001b[43mBy\u001b[49m\u001b[38;5;241;43m.\u001b[39;49m\u001b[43mXPATH\u001b[49m\u001b[43m,\u001b[49m\u001b[38;5;124;43m\"\u001b[39;49m\u001b[38;5;124;43m/html/body/div[1]/div/div/div[2]/main/div/div/div/div/div/div[1]/div[1]/div[1]/div/div/div/div/div[1]/div[2]/div/div/div/form/div[1]/div/div/div/label/div[2]/div/input\u001b[39;49m\u001b[38;5;124;43m\"\u001b[39;49m\u001b[43m)\u001b[49m\n\u001b[1;32m    137\u001b[0m search_input\u001b[38;5;241m.\u001b[39msend_keys(keys\u001b[38;5;241m.\u001b[39mENTER)\n",
      "File \u001b[0;32m~/.pyenv/versions/3.10.0/lib/python3.10/site-packages/selenium/webdriver/remote/webdriver.py:1244\u001b[0m, in \u001b[0;36mWebDriver.find_element\u001b[0;34m(self, by, value)\u001b[0m\n\u001b[1;32m   1241\u001b[0m     by \u001b[38;5;241m=\u001b[39m By\u001b[38;5;241m.\u001b[39mCSS_SELECTOR\n\u001b[1;32m   1242\u001b[0m     value \u001b[38;5;241m=\u001b[39m \u001b[38;5;124m'\u001b[39m\u001b[38;5;124m[name=\u001b[39m\u001b[38;5;124m\"\u001b[39m\u001b[38;5;132;01m%s\u001b[39;00m\u001b[38;5;124m\"\u001b[39m\u001b[38;5;124m]\u001b[39m\u001b[38;5;124m'\u001b[39m \u001b[38;5;241m%\u001b[39m value\n\u001b[0;32m-> 1244\u001b[0m \u001b[38;5;28;01mreturn\u001b[39;00m \u001b[38;5;28;43mself\u001b[39;49m\u001b[38;5;241;43m.\u001b[39;49m\u001b[43mexecute\u001b[49m\u001b[43m(\u001b[49m\u001b[43mCommand\u001b[49m\u001b[38;5;241;43m.\u001b[39;49m\u001b[43mFIND_ELEMENT\u001b[49m\u001b[43m,\u001b[49m\u001b[43m \u001b[49m\u001b[43m{\u001b[49m\n\u001b[1;32m   1245\u001b[0m \u001b[43m    \u001b[49m\u001b[38;5;124;43m'\u001b[39;49m\u001b[38;5;124;43musing\u001b[39;49m\u001b[38;5;124;43m'\u001b[39;49m\u001b[43m:\u001b[49m\u001b[43m \u001b[49m\u001b[43mby\u001b[49m\u001b[43m,\u001b[49m\n\u001b[1;32m   1246\u001b[0m \u001b[43m    \u001b[49m\u001b[38;5;124;43m'\u001b[39;49m\u001b[38;5;124;43mvalue\u001b[39;49m\u001b[38;5;124;43m'\u001b[39;49m\u001b[43m:\u001b[49m\u001b[43m \u001b[49m\u001b[43mvalue\u001b[49m\u001b[43m}\u001b[49m\u001b[43m)\u001b[49m[\u001b[38;5;124m'\u001b[39m\u001b[38;5;124mvalue\u001b[39m\u001b[38;5;124m'\u001b[39m]\n",
      "File \u001b[0;32m~/.pyenv/versions/3.10.0/lib/python3.10/site-packages/selenium/webdriver/remote/webdriver.py:424\u001b[0m, in \u001b[0;36mWebDriver.execute\u001b[0;34m(self, driver_command, params)\u001b[0m\n\u001b[1;32m    422\u001b[0m response \u001b[38;5;241m=\u001b[39m \u001b[38;5;28mself\u001b[39m\u001b[38;5;241m.\u001b[39mcommand_executor\u001b[38;5;241m.\u001b[39mexecute(driver_command, params)\n\u001b[1;32m    423\u001b[0m \u001b[38;5;28;01mif\u001b[39;00m response:\n\u001b[0;32m--> 424\u001b[0m     \u001b[38;5;28;43mself\u001b[39;49m\u001b[38;5;241;43m.\u001b[39;49m\u001b[43merror_handler\u001b[49m\u001b[38;5;241;43m.\u001b[39;49m\u001b[43mcheck_response\u001b[49m\u001b[43m(\u001b[49m\u001b[43mresponse\u001b[49m\u001b[43m)\u001b[49m\n\u001b[1;32m    425\u001b[0m     response[\u001b[38;5;124m'\u001b[39m\u001b[38;5;124mvalue\u001b[39m\u001b[38;5;124m'\u001b[39m] \u001b[38;5;241m=\u001b[39m \u001b[38;5;28mself\u001b[39m\u001b[38;5;241m.\u001b[39m_unwrap_value(\n\u001b[1;32m    426\u001b[0m         response\u001b[38;5;241m.\u001b[39mget(\u001b[38;5;124m'\u001b[39m\u001b[38;5;124mvalue\u001b[39m\u001b[38;5;124m'\u001b[39m, \u001b[38;5;28;01mNone\u001b[39;00m))\n\u001b[1;32m    427\u001b[0m     \u001b[38;5;28;01mreturn\u001b[39;00m response\n",
      "File \u001b[0;32m~/.pyenv/versions/3.10.0/lib/python3.10/site-packages/selenium/webdriver/remote/errorhandler.py:247\u001b[0m, in \u001b[0;36mErrorHandler.check_response\u001b[0;34m(self, response)\u001b[0m\n\u001b[1;32m    245\u001b[0m         alert_text \u001b[38;5;241m=\u001b[39m value[\u001b[38;5;124m'\u001b[39m\u001b[38;5;124malert\u001b[39m\u001b[38;5;124m'\u001b[39m]\u001b[38;5;241m.\u001b[39mget(\u001b[38;5;124m'\u001b[39m\u001b[38;5;124mtext\u001b[39m\u001b[38;5;124m'\u001b[39m)\n\u001b[1;32m    246\u001b[0m     \u001b[38;5;28;01mraise\u001b[39;00m exception_class(message, screen, stacktrace, alert_text)  \u001b[38;5;66;03m# type: ignore[call-arg]  # mypy is not smart enough here\u001b[39;00m\n\u001b[0;32m--> 247\u001b[0m \u001b[38;5;28;01mraise\u001b[39;00m exception_class(message, screen, stacktrace)\n",
      "\u001b[0;31mNoSuchElementException\u001b[0m: Message: no such element: Unable to locate element: {\"method\":\"xpath\",\"selector\":\"/html/body/div[1]/div/div/div[2]/main/div/div/div/div/div/div[1]/div[1]/div[1]/div/div/div/div/div[1]/div[2]/div/div/div/form/div[1]/div/div/div/label/div[2]/div/input\"}\n  (Session info: chrome=105.0.5195.125)\nStacktrace:\n0   chromedriver                        0x0000000109eb4788 chromedriver + 4515720\n1   chromedriver                        0x0000000109e389d3 chromedriver + 4008403\n2   chromedriver                        0x0000000109acb12a chromedriver + 413994\n3   chromedriver                        0x0000000109b02873 chromedriver + 641139\n4   chromedriver                        0x0000000109b02a61 chromedriver + 641633\n5   chromedriver                        0x0000000109b34f64 chromedriver + 847716\n6   chromedriver                        0x0000000109b1f7fd chromedriver + 759805\n7   chromedriver                        0x0000000109b32bd9 chromedriver + 838617\n8   chromedriver                        0x0000000109b1f603 chromedriver + 759299\n9   chromedriver                        0x0000000109af5990 chromedriver + 588176\n10  chromedriver                        0x0000000109af6a75 chromedriver + 592501\n11  chromedriver                        0x0000000109e846cd chromedriver + 4318925\n12  chromedriver                        0x0000000109e88f35 chromedriver + 4337461\n13  chromedriver                        0x0000000109e901ff chromedriver + 4366847\n14  chromedriver                        0x0000000109e89c5a chromedriver + 4340826\n15  chromedriver                        0x0000000109e5fc2c chromedriver + 4168748\n16  chromedriver                        0x0000000109ea64f8 chromedriver + 4457720\n17  chromedriver                        0x0000000109ea6693 chromedriver + 4458131\n18  chromedriver                        0x0000000109ebba3e chromedriver + 4545086\n19  libsystem_pthread.dylib             0x00007fff206108fc _pthread_start + 224\n20  libsystem_pthread.dylib             0x00007fff2060c443 thread_start + 15\n"
     ]
    }
   ],
   "source": [
    "%run twitter_block_searches.py"
   ]
  },
  {
   "cell_type": "code",
   "execution_count": 66,
   "id": "a7284ebc-a22f-42ad-bad0-6676f4bab620",
   "metadata": {},
   "outputs": [
    {
     "name": "stderr",
     "output_type": "stream",
     "text": [
      "/Users/taniguchiyuujin/Desktop/sidejob/twitter_block_searches.py:36: DeprecationWarning: executable_path has been deprecated, please pass in a Service object\n",
      "  driver = webdriver.Chrome(ChromeDriverManager().install())\n"
     ]
    },
    {
     "name": "stdout",
     "output_type": "stream",
     "text": [
      "検索ワード一つ目\n",
      "https://twitter.com/explore\n",
      "1回ブロックしました\n",
      "2回ブロックしました\n",
      "3回ブロックしました\n",
      "4回ブロックしました\n",
      "5回ブロックしました\n",
      "6回ブロックしました\n"
     ]
    },
    {
     "ename": "NoSuchElementException",
     "evalue": "Message: no such element: Unable to locate element: {\"method\":\"xpath\",\"selector\":\"/html/body/div[1]/div/div/div[2]/main/div/div/div/div/div/div[1]/div[1]/div[1]/div/div/div/div/div[1]/div[2]/div/div/div/form/div[1]/div/div/div/label/div[2]/div/input\"}\n  (Session info: chrome=105.0.5195.125)\nStacktrace:\n0   chromedriver                        0x0000000102a7a788 chromedriver + 4515720\n1   chromedriver                        0x00000001029fe9d3 chromedriver + 4008403\n2   chromedriver                        0x000000010269112a chromedriver + 413994\n3   chromedriver                        0x00000001026c8873 chromedriver + 641139\n4   chromedriver                        0x00000001026c8a61 chromedriver + 641633\n5   chromedriver                        0x00000001026faf64 chromedriver + 847716\n6   chromedriver                        0x00000001026e57fd chromedriver + 759805\n7   chromedriver                        0x00000001026f8bd9 chromedriver + 838617\n8   chromedriver                        0x00000001026e5603 chromedriver + 759299\n9   chromedriver                        0x00000001026bb990 chromedriver + 588176\n10  chromedriver                        0x00000001026bca75 chromedriver + 592501\n11  chromedriver                        0x0000000102a4a6cd chromedriver + 4318925\n12  chromedriver                        0x0000000102a4ef35 chromedriver + 4337461\n13  chromedriver                        0x0000000102a561ff chromedriver + 4366847\n14  chromedriver                        0x0000000102a4fc5a chromedriver + 4340826\n15  chromedriver                        0x0000000102a25c2c chromedriver + 4168748\n16  chromedriver                        0x0000000102a6c4f8 chromedriver + 4457720\n17  chromedriver                        0x0000000102a6c693 chromedriver + 4458131\n18  chromedriver                        0x0000000102a81a3e chromedriver + 4545086\n19  libsystem_pthread.dylib             0x00007fff206108fc _pthread_start + 224\n20  libsystem_pthread.dylib             0x00007fff2060c443 thread_start + 15\n",
     "output_type": "error",
     "traceback": [
      "\u001b[0;31m---------------------------------------------------------------------------\u001b[0m",
      "\u001b[0;31mNoSuchElementException\u001b[0m                    Traceback (most recent call last)",
      "File \u001b[0;32m~/Desktop/sidejob/twitter_block_searches.py:136\u001b[0m, in \u001b[0;36m<module>\u001b[0;34m\u001b[0m\n\u001b[1;32m    133\u001b[0m     time\u001b[38;5;241m.\u001b[39msleep(\u001b[38;5;241m1\u001b[39m)\n\u001b[1;32m    135\u001b[0m \u001b[38;5;66;03m# search_input = driver.find_element_by_xpath(\"/html/body/div[1]/div/div/div[2]/main/div/div/div/div/div/div[1]/div[1]/div/div/div/div/div[2]/div[2]/div/div/div/form/div[1]/div/div/label/div[2]/div/input\")\u001b[39;00m\n\u001b[0;32m--> 136\u001b[0m search_input \u001b[38;5;241m=\u001b[39m \u001b[43mdriver\u001b[49m\u001b[38;5;241;43m.\u001b[39;49m\u001b[43mfind_element\u001b[49m\u001b[43m(\u001b[49m\u001b[43mBy\u001b[49m\u001b[38;5;241;43m.\u001b[39;49m\u001b[43mXPATH\u001b[49m\u001b[43m,\u001b[49m\u001b[38;5;124;43m\"\u001b[39;49m\u001b[38;5;124;43m/html/body/div[1]/div/div/div[2]/main/div/div/div/div/div/div[1]/div[1]/div[1]/div/div/div/div/div[1]/div[2]/div/div/div/form/div[1]/div/div/div/label/div[2]/div/input\u001b[39;49m\u001b[38;5;124;43m\"\u001b[39;49m\u001b[43m)\u001b[49m\n\u001b[1;32m    137\u001b[0m search_input\u001b[38;5;241m.\u001b[39msend_keys(keys\u001b[38;5;241m.\u001b[39mENTER)\n",
      "File \u001b[0;32m~/.pyenv/versions/3.10.0/lib/python3.10/site-packages/selenium/webdriver/remote/webdriver.py:1244\u001b[0m, in \u001b[0;36mWebDriver.find_element\u001b[0;34m(self, by, value)\u001b[0m\n\u001b[1;32m   1241\u001b[0m     by \u001b[38;5;241m=\u001b[39m By\u001b[38;5;241m.\u001b[39mCSS_SELECTOR\n\u001b[1;32m   1242\u001b[0m     value \u001b[38;5;241m=\u001b[39m \u001b[38;5;124m'\u001b[39m\u001b[38;5;124m[name=\u001b[39m\u001b[38;5;124m\"\u001b[39m\u001b[38;5;132;01m%s\u001b[39;00m\u001b[38;5;124m\"\u001b[39m\u001b[38;5;124m]\u001b[39m\u001b[38;5;124m'\u001b[39m \u001b[38;5;241m%\u001b[39m value\n\u001b[0;32m-> 1244\u001b[0m \u001b[38;5;28;01mreturn\u001b[39;00m \u001b[38;5;28;43mself\u001b[39;49m\u001b[38;5;241;43m.\u001b[39;49m\u001b[43mexecute\u001b[49m\u001b[43m(\u001b[49m\u001b[43mCommand\u001b[49m\u001b[38;5;241;43m.\u001b[39;49m\u001b[43mFIND_ELEMENT\u001b[49m\u001b[43m,\u001b[49m\u001b[43m \u001b[49m\u001b[43m{\u001b[49m\n\u001b[1;32m   1245\u001b[0m \u001b[43m    \u001b[49m\u001b[38;5;124;43m'\u001b[39;49m\u001b[38;5;124;43musing\u001b[39;49m\u001b[38;5;124;43m'\u001b[39;49m\u001b[43m:\u001b[49m\u001b[43m \u001b[49m\u001b[43mby\u001b[49m\u001b[43m,\u001b[49m\n\u001b[1;32m   1246\u001b[0m \u001b[43m    \u001b[49m\u001b[38;5;124;43m'\u001b[39;49m\u001b[38;5;124;43mvalue\u001b[39;49m\u001b[38;5;124;43m'\u001b[39;49m\u001b[43m:\u001b[49m\u001b[43m \u001b[49m\u001b[43mvalue\u001b[49m\u001b[43m}\u001b[49m\u001b[43m)\u001b[49m[\u001b[38;5;124m'\u001b[39m\u001b[38;5;124mvalue\u001b[39m\u001b[38;5;124m'\u001b[39m]\n",
      "File \u001b[0;32m~/.pyenv/versions/3.10.0/lib/python3.10/site-packages/selenium/webdriver/remote/webdriver.py:424\u001b[0m, in \u001b[0;36mWebDriver.execute\u001b[0;34m(self, driver_command, params)\u001b[0m\n\u001b[1;32m    422\u001b[0m response \u001b[38;5;241m=\u001b[39m \u001b[38;5;28mself\u001b[39m\u001b[38;5;241m.\u001b[39mcommand_executor\u001b[38;5;241m.\u001b[39mexecute(driver_command, params)\n\u001b[1;32m    423\u001b[0m \u001b[38;5;28;01mif\u001b[39;00m response:\n\u001b[0;32m--> 424\u001b[0m     \u001b[38;5;28;43mself\u001b[39;49m\u001b[38;5;241;43m.\u001b[39;49m\u001b[43merror_handler\u001b[49m\u001b[38;5;241;43m.\u001b[39;49m\u001b[43mcheck_response\u001b[49m\u001b[43m(\u001b[49m\u001b[43mresponse\u001b[49m\u001b[43m)\u001b[49m\n\u001b[1;32m    425\u001b[0m     response[\u001b[38;5;124m'\u001b[39m\u001b[38;5;124mvalue\u001b[39m\u001b[38;5;124m'\u001b[39m] \u001b[38;5;241m=\u001b[39m \u001b[38;5;28mself\u001b[39m\u001b[38;5;241m.\u001b[39m_unwrap_value(\n\u001b[1;32m    426\u001b[0m         response\u001b[38;5;241m.\u001b[39mget(\u001b[38;5;124m'\u001b[39m\u001b[38;5;124mvalue\u001b[39m\u001b[38;5;124m'\u001b[39m, \u001b[38;5;28;01mNone\u001b[39;00m))\n\u001b[1;32m    427\u001b[0m     \u001b[38;5;28;01mreturn\u001b[39;00m response\n",
      "File \u001b[0;32m~/.pyenv/versions/3.10.0/lib/python3.10/site-packages/selenium/webdriver/remote/errorhandler.py:247\u001b[0m, in \u001b[0;36mErrorHandler.check_response\u001b[0;34m(self, response)\u001b[0m\n\u001b[1;32m    245\u001b[0m         alert_text \u001b[38;5;241m=\u001b[39m value[\u001b[38;5;124m'\u001b[39m\u001b[38;5;124malert\u001b[39m\u001b[38;5;124m'\u001b[39m]\u001b[38;5;241m.\u001b[39mget(\u001b[38;5;124m'\u001b[39m\u001b[38;5;124mtext\u001b[39m\u001b[38;5;124m'\u001b[39m)\n\u001b[1;32m    246\u001b[0m     \u001b[38;5;28;01mraise\u001b[39;00m exception_class(message, screen, stacktrace, alert_text)  \u001b[38;5;66;03m# type: ignore[call-arg]  # mypy is not smart enough here\u001b[39;00m\n\u001b[0;32m--> 247\u001b[0m \u001b[38;5;28;01mraise\u001b[39;00m exception_class(message, screen, stacktrace)\n",
      "\u001b[0;31mNoSuchElementException\u001b[0m: Message: no such element: Unable to locate element: {\"method\":\"xpath\",\"selector\":\"/html/body/div[1]/div/div/div[2]/main/div/div/div/div/div/div[1]/div[1]/div[1]/div/div/div/div/div[1]/div[2]/div/div/div/form/div[1]/div/div/div/label/div[2]/div/input\"}\n  (Session info: chrome=105.0.5195.125)\nStacktrace:\n0   chromedriver                        0x0000000102a7a788 chromedriver + 4515720\n1   chromedriver                        0x00000001029fe9d3 chromedriver + 4008403\n2   chromedriver                        0x000000010269112a chromedriver + 413994\n3   chromedriver                        0x00000001026c8873 chromedriver + 641139\n4   chromedriver                        0x00000001026c8a61 chromedriver + 641633\n5   chromedriver                        0x00000001026faf64 chromedriver + 847716\n6   chromedriver                        0x00000001026e57fd chromedriver + 759805\n7   chromedriver                        0x00000001026f8bd9 chromedriver + 838617\n8   chromedriver                        0x00000001026e5603 chromedriver + 759299\n9   chromedriver                        0x00000001026bb990 chromedriver + 588176\n10  chromedriver                        0x00000001026bca75 chromedriver + 592501\n11  chromedriver                        0x0000000102a4a6cd chromedriver + 4318925\n12  chromedriver                        0x0000000102a4ef35 chromedriver + 4337461\n13  chromedriver                        0x0000000102a561ff chromedriver + 4366847\n14  chromedriver                        0x0000000102a4fc5a chromedriver + 4340826\n15  chromedriver                        0x0000000102a25c2c chromedriver + 4168748\n16  chromedriver                        0x0000000102a6c4f8 chromedriver + 4457720\n17  chromedriver                        0x0000000102a6c693 chromedriver + 4458131\n18  chromedriver                        0x0000000102a81a3e chromedriver + 4545086\n19  libsystem_pthread.dylib             0x00007fff206108fc _pthread_start + 224\n20  libsystem_pthread.dylib             0x00007fff2060c443 thread_start + 15\n"
     ]
    }
   ],
   "source": [
    "%run twitter_block_searches.py"
   ]
  },
  {
   "cell_type": "code",
   "execution_count": null,
   "id": "cf3925d7-43ac-432f-9402-fb420591298c",
   "metadata": {},
   "outputs": [],
   "source": []
  }
 ],
 "metadata": {
  "kernelspec": {
   "display_name": "Python 3 (ipykernel)",
   "language": "python",
   "name": "python3"
  },
  "language_info": {
   "codemirror_mode": {
    "name": "ipython",
    "version": 3
   },
   "file_extension": ".py",
   "mimetype": "text/x-python",
   "name": "python",
   "nbconvert_exporter": "python",
   "pygments_lexer": "ipython3",
   "version": "3.10.0"
  }
 },
 "nbformat": 4,
 "nbformat_minor": 5
}
