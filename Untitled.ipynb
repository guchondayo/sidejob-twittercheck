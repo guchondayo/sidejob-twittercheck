{
 "cells": [
  {
   "cell_type": "code",
   "execution_count": 93,
   "id": "f0a37f87-7c7c-4503-bc2f-a2069c7e09d9",
   "metadata": {},
   "outputs": [
    {
     "name": "stderr",
     "output_type": "stream",
     "text": [
      "/Users/taniguchiyuujin/Desktop/sidejob/twitter_block_searches.py:36: DeprecationWarning: executable_path has been deprecated, please pass in a Service object\n",
      "  \n"
     ]
    },
    {
     "name": "stdout",
     "output_type": "stream",
     "text": [
      "一つ目\n",
      "https://twitter.com/explore\n",
      "1回ブロックしました\n",
      "2回ブロックしました\n",
      "3回ブロックしました\n",
      "4回ブロックしました\n",
      "5回ブロックしました\n",
      "6回ブロックしました\n",
      "7回ブロックしました\n",
      "8回ブロックしました\n"
     ]
    },
    {
     "ename": "NoSuchElementException",
     "evalue": "Message: no such element: Unable to locate element: {\"method\":\"xpath\",\"selector\":\"/html/body/div[1]/div/div/div[2]/main/div/div/div/div/div/div[1]/div[1]/div[1]/div/div/div/div/div[1]/div[2]/div/div/div/form/div[1]/div/div/div/label/div[2]/div/input\"}\n  (Session info: chrome=105.0.5195.125)\nStacktrace:\n0   chromedriver                        0x00000001101cc788 chromedriver + 4515720\n1   chromedriver                        0x00000001101509d3 chromedriver + 4008403\n2   chromedriver                        0x000000010fde312a chromedriver + 413994\n3   chromedriver                        0x000000010fe1a873 chromedriver + 641139\n4   chromedriver                        0x000000010fe1aa61 chromedriver + 641633\n5   chromedriver                        0x000000010fe4cf64 chromedriver + 847716\n6   chromedriver                        0x000000010fe377fd chromedriver + 759805\n7   chromedriver                        0x000000010fe4abd9 chromedriver + 838617\n8   chromedriver                        0x000000010fe37603 chromedriver + 759299\n9   chromedriver                        0x000000010fe0d990 chromedriver + 588176\n10  chromedriver                        0x000000010fe0ea75 chromedriver + 592501\n11  chromedriver                        0x000000011019c6cd chromedriver + 4318925\n12  chromedriver                        0x00000001101a0f35 chromedriver + 4337461\n13  chromedriver                        0x00000001101a81ff chromedriver + 4366847\n14  chromedriver                        0x00000001101a1c5a chromedriver + 4340826\n15  chromedriver                        0x0000000110177c2c chromedriver + 4168748\n16  chromedriver                        0x00000001101be4f8 chromedriver + 4457720\n17  chromedriver                        0x00000001101be693 chromedriver + 4458131\n18  chromedriver                        0x00000001101d3a3e chromedriver + 4545086\n19  libsystem_pthread.dylib             0x00007fff206108fc _pthread_start + 224\n20  libsystem_pthread.dylib             0x00007fff2060c443 thread_start + 15\n",
     "output_type": "error",
     "traceback": [
      "\u001b[0;31m---------------------------------------------------------------------------\u001b[0m",
      "\u001b[0;31mNoSuchElementException\u001b[0m                    Traceback (most recent call last)",
      "File \u001b[0;32m~/Desktop/sidejob/twitter_block_searches.py:136\u001b[0m, in \u001b[0;36m<module>\u001b[0;34m\u001b[0m\n\u001b[1;32m    133\u001b[0m     time\u001b[38;5;241m.\u001b[39msleep(\u001b[38;5;241m1\u001b[39m)\n\u001b[1;32m    135\u001b[0m \u001b[38;5;66;03m# search_input = driver.find_element_by_xpath(\"/html/body/div[1]/div/div/div[2]/main/div/div/div/div/div/div[1]/div[1]/div/div/div/div/div[2]/div[2]/div/div/div/form/div[1]/div/div/label/div[2]/div/input\")\u001b[39;00m\n\u001b[0;32m--> 136\u001b[0m search_input \u001b[38;5;241m=\u001b[39m \u001b[43mdriver\u001b[49m\u001b[38;5;241;43m.\u001b[39;49m\u001b[43mfind_element\u001b[49m\u001b[43m(\u001b[49m\u001b[43mBy\u001b[49m\u001b[38;5;241;43m.\u001b[39;49m\u001b[43mXPATH\u001b[49m\u001b[43m,\u001b[49m\u001b[38;5;124;43m\"\u001b[39;49m\u001b[38;5;124;43m/html/body/div[1]/div/div/div[2]/main/div/div/div/div/div/div[1]/div[1]/div[1]/div/div/div/div/div[1]/div[2]/div/div/div/form/div[1]/div/div/div/label/div[2]/div/input\u001b[39;49m\u001b[38;5;124;43m\"\u001b[39;49m\u001b[43m)\u001b[49m\n\u001b[1;32m    137\u001b[0m search_input\u001b[38;5;241m.\u001b[39msend_keys(keys\u001b[38;5;241m.\u001b[39mENTER)\n",
      "File \u001b[0;32m~/.pyenv/versions/3.10.0/lib/python3.10/site-packages/selenium/webdriver/remote/webdriver.py:1244\u001b[0m, in \u001b[0;36mWebDriver.find_element\u001b[0;34m(self, by, value)\u001b[0m\n\u001b[1;32m   1241\u001b[0m     by \u001b[38;5;241m=\u001b[39m By\u001b[38;5;241m.\u001b[39mCSS_SELECTOR\n\u001b[1;32m   1242\u001b[0m     value \u001b[38;5;241m=\u001b[39m \u001b[38;5;124m'\u001b[39m\u001b[38;5;124m[name=\u001b[39m\u001b[38;5;124m\"\u001b[39m\u001b[38;5;132;01m%s\u001b[39;00m\u001b[38;5;124m\"\u001b[39m\u001b[38;5;124m]\u001b[39m\u001b[38;5;124m'\u001b[39m \u001b[38;5;241m%\u001b[39m value\n\u001b[0;32m-> 1244\u001b[0m \u001b[38;5;28;01mreturn\u001b[39;00m \u001b[38;5;28;43mself\u001b[39;49m\u001b[38;5;241;43m.\u001b[39;49m\u001b[43mexecute\u001b[49m\u001b[43m(\u001b[49m\u001b[43mCommand\u001b[49m\u001b[38;5;241;43m.\u001b[39;49m\u001b[43mFIND_ELEMENT\u001b[49m\u001b[43m,\u001b[49m\u001b[43m \u001b[49m\u001b[43m{\u001b[49m\n\u001b[1;32m   1245\u001b[0m \u001b[43m    \u001b[49m\u001b[38;5;124;43m'\u001b[39;49m\u001b[38;5;124;43musing\u001b[39;49m\u001b[38;5;124;43m'\u001b[39;49m\u001b[43m:\u001b[49m\u001b[43m \u001b[49m\u001b[43mby\u001b[49m\u001b[43m,\u001b[49m\n\u001b[1;32m   1246\u001b[0m \u001b[43m    \u001b[49m\u001b[38;5;124;43m'\u001b[39;49m\u001b[38;5;124;43mvalue\u001b[39;49m\u001b[38;5;124;43m'\u001b[39;49m\u001b[43m:\u001b[49m\u001b[43m \u001b[49m\u001b[43mvalue\u001b[49m\u001b[43m}\u001b[49m\u001b[43m)\u001b[49m[\u001b[38;5;124m'\u001b[39m\u001b[38;5;124mvalue\u001b[39m\u001b[38;5;124m'\u001b[39m]\n",
      "File \u001b[0;32m~/.pyenv/versions/3.10.0/lib/python3.10/site-packages/selenium/webdriver/remote/webdriver.py:424\u001b[0m, in \u001b[0;36mWebDriver.execute\u001b[0;34m(self, driver_command, params)\u001b[0m\n\u001b[1;32m    422\u001b[0m response \u001b[38;5;241m=\u001b[39m \u001b[38;5;28mself\u001b[39m\u001b[38;5;241m.\u001b[39mcommand_executor\u001b[38;5;241m.\u001b[39mexecute(driver_command, params)\n\u001b[1;32m    423\u001b[0m \u001b[38;5;28;01mif\u001b[39;00m response:\n\u001b[0;32m--> 424\u001b[0m     \u001b[38;5;28;43mself\u001b[39;49m\u001b[38;5;241;43m.\u001b[39;49m\u001b[43merror_handler\u001b[49m\u001b[38;5;241;43m.\u001b[39;49m\u001b[43mcheck_response\u001b[49m\u001b[43m(\u001b[49m\u001b[43mresponse\u001b[49m\u001b[43m)\u001b[49m\n\u001b[1;32m    425\u001b[0m     response[\u001b[38;5;124m'\u001b[39m\u001b[38;5;124mvalue\u001b[39m\u001b[38;5;124m'\u001b[39m] \u001b[38;5;241m=\u001b[39m \u001b[38;5;28mself\u001b[39m\u001b[38;5;241m.\u001b[39m_unwrap_value(\n\u001b[1;32m    426\u001b[0m         response\u001b[38;5;241m.\u001b[39mget(\u001b[38;5;124m'\u001b[39m\u001b[38;5;124mvalue\u001b[39m\u001b[38;5;124m'\u001b[39m, \u001b[38;5;28;01mNone\u001b[39;00m))\n\u001b[1;32m    427\u001b[0m     \u001b[38;5;28;01mreturn\u001b[39;00m response\n",
      "File \u001b[0;32m~/.pyenv/versions/3.10.0/lib/python3.10/site-packages/selenium/webdriver/remote/errorhandler.py:247\u001b[0m, in \u001b[0;36mErrorHandler.check_response\u001b[0;34m(self, response)\u001b[0m\n\u001b[1;32m    245\u001b[0m         alert_text \u001b[38;5;241m=\u001b[39m value[\u001b[38;5;124m'\u001b[39m\u001b[38;5;124malert\u001b[39m\u001b[38;5;124m'\u001b[39m]\u001b[38;5;241m.\u001b[39mget(\u001b[38;5;124m'\u001b[39m\u001b[38;5;124mtext\u001b[39m\u001b[38;5;124m'\u001b[39m)\n\u001b[1;32m    246\u001b[0m     \u001b[38;5;28;01mraise\u001b[39;00m exception_class(message, screen, stacktrace, alert_text)  \u001b[38;5;66;03m# type: ignore[call-arg]  # mypy is not smart enough here\u001b[39;00m\n\u001b[0;32m--> 247\u001b[0m \u001b[38;5;28;01mraise\u001b[39;00m exception_class(message, screen, stacktrace)\n",
      "\u001b[0;31mNoSuchElementException\u001b[0m: Message: no such element: Unable to locate element: {\"method\":\"xpath\",\"selector\":\"/html/body/div[1]/div/div/div[2]/main/div/div/div/div/div/div[1]/div[1]/div[1]/div/div/div/div/div[1]/div[2]/div/div/div/form/div[1]/div/div/div/label/div[2]/div/input\"}\n  (Session info: chrome=105.0.5195.125)\nStacktrace:\n0   chromedriver                        0x00000001101cc788 chromedriver + 4515720\n1   chromedriver                        0x00000001101509d3 chromedriver + 4008403\n2   chromedriver                        0x000000010fde312a chromedriver + 413994\n3   chromedriver                        0x000000010fe1a873 chromedriver + 641139\n4   chromedriver                        0x000000010fe1aa61 chromedriver + 641633\n5   chromedriver                        0x000000010fe4cf64 chromedriver + 847716\n6   chromedriver                        0x000000010fe377fd chromedriver + 759805\n7   chromedriver                        0x000000010fe4abd9 chromedriver + 838617\n8   chromedriver                        0x000000010fe37603 chromedriver + 759299\n9   chromedriver                        0x000000010fe0d990 chromedriver + 588176\n10  chromedriver                        0x000000010fe0ea75 chromedriver + 592501\n11  chromedriver                        0x000000011019c6cd chromedriver + 4318925\n12  chromedriver                        0x00000001101a0f35 chromedriver + 4337461\n13  chromedriver                        0x00000001101a81ff chromedriver + 4366847\n14  chromedriver                        0x00000001101a1c5a chromedriver + 4340826\n15  chromedriver                        0x0000000110177c2c chromedriver + 4168748\n16  chromedriver                        0x00000001101be4f8 chromedriver + 4457720\n17  chromedriver                        0x00000001101be693 chromedriver + 4458131\n18  chromedriver                        0x00000001101d3a3e chromedriver + 4545086\n19  libsystem_pthread.dylib             0x00007fff206108fc _pthread_start + 224\n20  libsystem_pthread.dylib             0x00007fff2060c443 thread_start + 15\n"
     ]
    }
   ],
   "source": [
    "%run twitter_block_searches.py"
   ]
  },
  {
   "cell_type": "code",
   "execution_count": 95,
   "id": "7bcff495-6826-4bf9-812c-8b84f83831ee",
   "metadata": {},
   "outputs": [
    {
     "name": "stderr",
     "output_type": "stream",
     "text": [
      "/Users/taniguchiyuujin/Desktop/sidejob/twitter_block_searches.py:36: DeprecationWarning: executable_path has been deprecated, please pass in a Service object\n",
      "  \n"
     ]
    },
    {
     "name": "stdout",
     "output_type": "stream",
     "text": [
      "一つ目\n",
      "https://twitter.com/explore\n",
      "1回ブロックしました\n",
      "2回ブロックしました\n",
      "3回ブロックしました\n",
      "4回ブロックしました\n",
      "5回ブロックしました\n",
      "ツイートなし\n",
      "二つ目\n",
      "https://twitter.com/explore\n",
      "Unexpected exception formatting exception. Falling back to standard exception\n"
     ]
    },
    {
     "name": "stderr",
     "output_type": "stream",
     "text": [
      "Traceback (most recent call last):\n",
      "  File \"/Users/taniguchiyuujin/.pyenv/versions/3.10.0/lib/python3.10/site-packages/IPython/core/interactiveshell.py\", line 2738, in safe_execfile\n",
      "    py3compat.execfile(\n",
      "  File \"/Users/taniguchiyuujin/.pyenv/versions/3.10.0/lib/python3.10/site-packages/IPython/utils/py3compat.py\", line 55, in execfile\n",
      "    exec(compiler(f.read(), fname, \"exec\"), glob, loc)\n",
      "  File \"/Users/taniguchiyuujin/Desktop/sidejob/twitter_block_searches.py\", line 142, in <module>\n",
      "    search_input.send_keys(keys.ENTER)\n",
      "  File \"/Users/taniguchiyuujin/.pyenv/versions/3.10.0/lib/python3.10/site-packages/selenium/webdriver/remote/webelement.py\", line 540, in send_keys\n",
      "    self._execute(Command.SEND_KEYS_TO_ELEMENT,\n",
      "  File \"/Users/taniguchiyuujin/.pyenv/versions/3.10.0/lib/python3.10/site-packages/selenium/webdriver/remote/webelement.py\", line 710, in _execute\n",
      "    return self._parent.execute(command, params)\n",
      "  File \"/Users/taniguchiyuujin/.pyenv/versions/3.10.0/lib/python3.10/site-packages/selenium/webdriver/remote/webdriver.py\", line 424, in execute\n",
      "    self.error_handler.check_response(response)\n",
      "  File \"/Users/taniguchiyuujin/.pyenv/versions/3.10.0/lib/python3.10/site-packages/selenium/webdriver/remote/errorhandler.py\", line 247, in check_response\n",
      "    raise exception_class(message, screen, stacktrace)\n",
      "selenium.common.exceptions.ElementNotInteractableException: Message: element not interactable\n",
      "  (Session info: chrome=105.0.5195.125)\n",
      "Stacktrace:\n",
      "0   chromedriver                        0x0000000102a3b788 chromedriver + 4515720\n",
      "1   chromedriver                        0x00000001029bf9d3 chromedriver + 4008403\n",
      "2   chromedriver                        0x0000000102651feb chromedriver + 413675\n",
      "3   chromedriver                        0x0000000102683a1f chromedriver + 616991\n",
      "4   chromedriver                        0x0000000102682fd8 chromedriver + 614360\n",
      "5   chromedriver                        0x00000001026a67d2 chromedriver + 759762\n",
      "6   chromedriver                        0x000000010267e075 chromedriver + 594037\n",
      "7   chromedriver                        0x00000001026a692e chromedriver + 760110\n",
      "8   chromedriver                        0x00000001026b9bd9 chromedriver + 838617\n",
      "9   chromedriver                        0x00000001026a6603 chromedriver + 759299\n",
      "10  chromedriver                        0x000000010267c990 chromedriver + 588176\n",
      "11  chromedriver                        0x000000010267da75 chromedriver + 592501\n",
      "12  chromedriver                        0x0000000102a0b6cd chromedriver + 4318925\n",
      "13  chromedriver                        0x0000000102a0ff35 chromedriver + 4337461\n",
      "14  chromedriver                        0x0000000102a171ff chromedriver + 4366847\n",
      "15  chromedriver                        0x0000000102a10c5a chromedriver + 4340826\n",
      "16  chromedriver                        0x00000001029e6c2c chromedriver + 4168748\n",
      "17  chromedriver                        0x0000000102a2d4f8 chromedriver + 4457720\n",
      "18  chromedriver                        0x0000000102a2d693 chromedriver + 4458131\n",
      "19  chromedriver                        0x0000000102a42a3e chromedriver + 4545086\n",
      "20  libsystem_pthread.dylib             0x00007fff206108fc _pthread_start + 224\n",
      "21  libsystem_pthread.dylib             0x00007fff2060c443 thread_start + 15\n",
      "\n",
      "\n",
      "During handling of the above exception, another exception occurred:\n",
      "\n",
      "Traceback (most recent call last):\n",
      "  File \"/Users/taniguchiyuujin/.pyenv/versions/3.10.0/lib/python3.10/site-packages/IPython/core/interactiveshell.py\", line 1993, in showtraceback\n",
      "    stb = self.InteractiveTB.structured_traceback(\n",
      "  File \"/Users/taniguchiyuujin/.pyenv/versions/3.10.0/lib/python3.10/site-packages/IPython/core/ultratb.py\", line 1118, in structured_traceback\n",
      "    return FormattedTB.structured_traceback(\n",
      "  File \"/Users/taniguchiyuujin/.pyenv/versions/3.10.0/lib/python3.10/site-packages/IPython/core/ultratb.py\", line 1012, in structured_traceback\n",
      "    return VerboseTB.structured_traceback(\n",
      "  File \"/Users/taniguchiyuujin/.pyenv/versions/3.10.0/lib/python3.10/site-packages/IPython/core/ultratb.py\", line 865, in structured_traceback\n",
      "    formatted_exception = self.format_exception_as_a_whole(etype, evalue, etb, number_of_lines_of_context,\n",
      "  File \"/Users/taniguchiyuujin/.pyenv/versions/3.10.0/lib/python3.10/site-packages/IPython/core/ultratb.py\", line 818, in format_exception_as_a_whole\n",
      "    frames.append(self.format_record(r))\n",
      "  File \"/Users/taniguchiyuujin/.pyenv/versions/3.10.0/lib/python3.10/site-packages/IPython/core/ultratb.py\", line 736, in format_record\n",
      "    result += ''.join(_format_traceback_lines(frame_info.lines, Colors, self.has_colors, lvals))\n",
      "  File \"/Users/taniguchiyuujin/.pyenv/versions/3.10.0/lib/python3.10/site-packages/stack_data/utils.py\", line 145, in cached_property_wrapper\n",
      "    value = obj.__dict__[self.func.__name__] = self.func(obj)\n",
      "  File \"/Users/taniguchiyuujin/.pyenv/versions/3.10.0/lib/python3.10/site-packages/stack_data/core.py\", line 699, in lines\n",
      "    pieces = self.included_pieces\n",
      "  File \"/Users/taniguchiyuujin/.pyenv/versions/3.10.0/lib/python3.10/site-packages/stack_data/utils.py\", line 145, in cached_property_wrapper\n",
      "    value = obj.__dict__[self.func.__name__] = self.func(obj)\n",
      "  File \"/Users/taniguchiyuujin/.pyenv/versions/3.10.0/lib/python3.10/site-packages/stack_data/core.py\", line 647, in included_pieces\n",
      "    pos = scope_pieces.index(self.executing_piece)\n",
      "  File \"/Users/taniguchiyuujin/.pyenv/versions/3.10.0/lib/python3.10/site-packages/stack_data/utils.py\", line 145, in cached_property_wrapper\n",
      "    value = obj.__dict__[self.func.__name__] = self.func(obj)\n",
      "  File \"/Users/taniguchiyuujin/.pyenv/versions/3.10.0/lib/python3.10/site-packages/stack_data/core.py\", line 626, in executing_piece\n",
      "    return only(\n",
      "  File \"/Users/taniguchiyuujin/.pyenv/versions/3.10.0/lib/python3.10/site-packages/executing/executing.py\", line 164, in only\n",
      "    raise NotOneValueFound('Expected one value, found 0')\n",
      "executing.executing.NotOneValueFound: Expected one value, found 0\n"
     ]
    }
   ],
   "source": [
    "%run twitter_block_searches.py"
   ]
  },
  {
   "cell_type": "code",
   "execution_count": 97,
   "id": "f08a8677-1ce6-4804-ae13-e8d98e1561ca",
   "metadata": {},
   "outputs": [
    {
     "name": "stderr",
     "output_type": "stream",
     "text": [
      "/Users/taniguchiyuujin/Desktop/sidejob/twitter_block_searches.py:36: DeprecationWarning: executable_path has been deprecated, please pass in a Service object\n",
      "  driver = webdriver.Chrome(ChromeDriverManager().install())\n"
     ]
    },
    {
     "name": "stdout",
     "output_type": "stream",
     "text": [
      "一つ目\n",
      "https://twitter.com/explore\n",
      "1回ブロックしました\n",
      "2回ブロックしました\n",
      "3回ブロックしました\n",
      "4回ブロックしました\n",
      "5回ブロックしました\n",
      "6回ブロックしました\n",
      "7回ブロックしました\n",
      "8回ブロックしました\n",
      "9回ブロックしました\n",
      "10回ブロックしました\n",
      "11回ブロックしました\n",
      "12回ブロックしました\n",
      "ツイートなし\n",
      "二つ目\n",
      "https://twitter.com/explore\n"
     ]
    },
    {
     "ename": "ElementClickInterceptedException",
     "evalue": "Message: element click intercepted: Element <div role=\"menuitem\" tabindex=\"0\" class=\"css-1dbjc4n r-1loqt21 r-18u37iz r-1ny4l3l r-ymttw5 r-1yzf0co r-o7ynqc r-6416eg r-13qz1uu\">...</div> is not clickable at point (847, 679). Other element would receive the click: <div class=\"css-1dbjc4n r-1p0dtai r-1d2f490 r-1xcajam r-zchlnj r-ipm5af\"></div>\n  (Session info: chrome=105.0.5195.125)\nStacktrace:\n0   chromedriver                        0x00000001004b8788 chromedriver + 4515720\n1   chromedriver                        0x000000010043c9d3 chromedriver + 4008403\n2   chromedriver                        0x00000001000cf12a chromedriver + 413994\n3   chromedriver                        0x000000010010e1b2 chromedriver + 672178\n4   chromedriver                        0x000000010010bc27 chromedriver + 662567\n5   chromedriver                        0x0000000100109234 chromedriver + 651828\n6   chromedriver                        0x0000000100107f57 chromedriver + 646999\n7   chromedriver                        0x00000001000fb861 chromedriver + 596065\n8   chromedriver                        0x00000001001237d2 chromedriver + 759762\n9   chromedriver                        0x00000001000fb075 chromedriver + 594037\n10  chromedriver                        0x000000010012392e chromedriver + 760110\n11  chromedriver                        0x0000000100136bd9 chromedriver + 838617\n12  chromedriver                        0x0000000100123603 chromedriver + 759299\n13  chromedriver                        0x00000001000f9990 chromedriver + 588176\n14  chromedriver                        0x00000001000faa75 chromedriver + 592501\n15  chromedriver                        0x00000001004886cd chromedriver + 4318925\n16  chromedriver                        0x000000010048cf35 chromedriver + 4337461\n17  chromedriver                        0x00000001004941ff chromedriver + 4366847\n18  chromedriver                        0x000000010048dc5a chromedriver + 4340826\n19  chromedriver                        0x0000000100463c2c chromedriver + 4168748\n20  chromedriver                        0x00000001004aa4f8 chromedriver + 4457720\n21  chromedriver                        0x00000001004aa693 chromedriver + 4458131\n22  chromedriver                        0x00000001004bfa3e chromedriver + 4545086\n23  libsystem_pthread.dylib             0x00007fff206108fc _pthread_start + 224\n24  libsystem_pthread.dylib             0x00007fff2060c443 thread_start + 15\n",
     "output_type": "error",
     "traceback": [
      "\u001b[0;31m---------------------------------------------------------------------------\u001b[0m",
      "\u001b[0;31mElementClickInterceptedException\u001b[0m          Traceback (most recent call last)",
      "File \u001b[0;32m~/Desktop/sidejob/twitter_block_searches.py:129\u001b[0m, in \u001b[0;36m<module>\u001b[0;34m\u001b[0m\n\u001b[1;32m    127\u001b[0m     \u001b[38;5;28;01mcontinue\u001b[39;00m\n\u001b[1;32m    128\u001b[0m \u001b[38;5;28;01melif\u001b[39;00m \u001b[38;5;28mlen\u001b[39m(block_button)\u001b[38;5;241m==\u001b[39m\u001b[38;5;241m5\u001b[39m:\n\u001b[0;32m--> 129\u001b[0m     \u001b[43mblock_button\u001b[49m\u001b[43m[\u001b[49m\u001b[38;5;241;43m2\u001b[39;49m\u001b[43m]\u001b[49m\u001b[38;5;241;43m.\u001b[39;49m\u001b[43mclick\u001b[49m\u001b[43m(\u001b[49m\u001b[43m)\u001b[49m\n\u001b[1;32m    130\u001b[0m \u001b[38;5;28;01melse\u001b[39;00m:\n\u001b[1;32m    131\u001b[0m     \u001b[38;5;28;01mcontinue\u001b[39;00m\n",
      "File \u001b[0;32m~/.pyenv/versions/3.10.0/lib/python3.10/site-packages/selenium/webdriver/remote/webelement.py:81\u001b[0m, in \u001b[0;36mWebElement.click\u001b[0;34m(self)\u001b[0m\n\u001b[1;32m     79\u001b[0m \u001b[38;5;28;01mdef\u001b[39;00m \u001b[38;5;21mclick\u001b[39m(\u001b[38;5;28mself\u001b[39m) \u001b[38;5;241m-\u001b[39m\u001b[38;5;241m>\u001b[39m \u001b[38;5;28;01mNone\u001b[39;00m:\n\u001b[1;32m     80\u001b[0m     \u001b[38;5;124;03m\"\"\"Clicks the element.\"\"\"\u001b[39;00m\n\u001b[0;32m---> 81\u001b[0m     \u001b[38;5;28;43mself\u001b[39;49m\u001b[38;5;241;43m.\u001b[39;49m\u001b[43m_execute\u001b[49m\u001b[43m(\u001b[49m\u001b[43mCommand\u001b[49m\u001b[38;5;241;43m.\u001b[39;49m\u001b[43mCLICK_ELEMENT\u001b[49m\u001b[43m)\u001b[49m\n",
      "File \u001b[0;32m~/.pyenv/versions/3.10.0/lib/python3.10/site-packages/selenium/webdriver/remote/webelement.py:710\u001b[0m, in \u001b[0;36mWebElement._execute\u001b[0;34m(self, command, params)\u001b[0m\n\u001b[1;32m    708\u001b[0m     params \u001b[38;5;241m=\u001b[39m {}\n\u001b[1;32m    709\u001b[0m params[\u001b[38;5;124m'\u001b[39m\u001b[38;5;124mid\u001b[39m\u001b[38;5;124m'\u001b[39m] \u001b[38;5;241m=\u001b[39m \u001b[38;5;28mself\u001b[39m\u001b[38;5;241m.\u001b[39m_id\n\u001b[0;32m--> 710\u001b[0m \u001b[38;5;28;01mreturn\u001b[39;00m \u001b[38;5;28;43mself\u001b[39;49m\u001b[38;5;241;43m.\u001b[39;49m\u001b[43m_parent\u001b[49m\u001b[38;5;241;43m.\u001b[39;49m\u001b[43mexecute\u001b[49m\u001b[43m(\u001b[49m\u001b[43mcommand\u001b[49m\u001b[43m,\u001b[49m\u001b[43m \u001b[49m\u001b[43mparams\u001b[49m\u001b[43m)\u001b[49m\n",
      "File \u001b[0;32m~/.pyenv/versions/3.10.0/lib/python3.10/site-packages/selenium/webdriver/remote/webdriver.py:424\u001b[0m, in \u001b[0;36mWebDriver.execute\u001b[0;34m(self, driver_command, params)\u001b[0m\n\u001b[1;32m    422\u001b[0m response \u001b[38;5;241m=\u001b[39m \u001b[38;5;28mself\u001b[39m\u001b[38;5;241m.\u001b[39mcommand_executor\u001b[38;5;241m.\u001b[39mexecute(driver_command, params)\n\u001b[1;32m    423\u001b[0m \u001b[38;5;28;01mif\u001b[39;00m response:\n\u001b[0;32m--> 424\u001b[0m     \u001b[38;5;28;43mself\u001b[39;49m\u001b[38;5;241;43m.\u001b[39;49m\u001b[43merror_handler\u001b[49m\u001b[38;5;241;43m.\u001b[39;49m\u001b[43mcheck_response\u001b[49m\u001b[43m(\u001b[49m\u001b[43mresponse\u001b[49m\u001b[43m)\u001b[49m\n\u001b[1;32m    425\u001b[0m     response[\u001b[38;5;124m'\u001b[39m\u001b[38;5;124mvalue\u001b[39m\u001b[38;5;124m'\u001b[39m] \u001b[38;5;241m=\u001b[39m \u001b[38;5;28mself\u001b[39m\u001b[38;5;241m.\u001b[39m_unwrap_value(\n\u001b[1;32m    426\u001b[0m         response\u001b[38;5;241m.\u001b[39mget(\u001b[38;5;124m'\u001b[39m\u001b[38;5;124mvalue\u001b[39m\u001b[38;5;124m'\u001b[39m, \u001b[38;5;28;01mNone\u001b[39;00m))\n\u001b[1;32m    427\u001b[0m     \u001b[38;5;28;01mreturn\u001b[39;00m response\n",
      "File \u001b[0;32m~/.pyenv/versions/3.10.0/lib/python3.10/site-packages/selenium/webdriver/remote/errorhandler.py:247\u001b[0m, in \u001b[0;36mErrorHandler.check_response\u001b[0;34m(self, response)\u001b[0m\n\u001b[1;32m    245\u001b[0m         alert_text \u001b[38;5;241m=\u001b[39m value[\u001b[38;5;124m'\u001b[39m\u001b[38;5;124malert\u001b[39m\u001b[38;5;124m'\u001b[39m]\u001b[38;5;241m.\u001b[39mget(\u001b[38;5;124m'\u001b[39m\u001b[38;5;124mtext\u001b[39m\u001b[38;5;124m'\u001b[39m)\n\u001b[1;32m    246\u001b[0m     \u001b[38;5;28;01mraise\u001b[39;00m exception_class(message, screen, stacktrace, alert_text)  \u001b[38;5;66;03m# type: ignore[call-arg]  # mypy is not smart enough here\u001b[39;00m\n\u001b[0;32m--> 247\u001b[0m \u001b[38;5;28;01mraise\u001b[39;00m exception_class(message, screen, stacktrace)\n",
      "\u001b[0;31mElementClickInterceptedException\u001b[0m: Message: element click intercepted: Element <div role=\"menuitem\" tabindex=\"0\" class=\"css-1dbjc4n r-1loqt21 r-18u37iz r-1ny4l3l r-ymttw5 r-1yzf0co r-o7ynqc r-6416eg r-13qz1uu\">...</div> is not clickable at point (847, 679). Other element would receive the click: <div class=\"css-1dbjc4n r-1p0dtai r-1d2f490 r-1xcajam r-zchlnj r-ipm5af\"></div>\n  (Session info: chrome=105.0.5195.125)\nStacktrace:\n0   chromedriver                        0x00000001004b8788 chromedriver + 4515720\n1   chromedriver                        0x000000010043c9d3 chromedriver + 4008403\n2   chromedriver                        0x00000001000cf12a chromedriver + 413994\n3   chromedriver                        0x000000010010e1b2 chromedriver + 672178\n4   chromedriver                        0x000000010010bc27 chromedriver + 662567\n5   chromedriver                        0x0000000100109234 chromedriver + 651828\n6   chromedriver                        0x0000000100107f57 chromedriver + 646999\n7   chromedriver                        0x00000001000fb861 chromedriver + 596065\n8   chromedriver                        0x00000001001237d2 chromedriver + 759762\n9   chromedriver                        0x00000001000fb075 chromedriver + 594037\n10  chromedriver                        0x000000010012392e chromedriver + 760110\n11  chromedriver                        0x0000000100136bd9 chromedriver + 838617\n12  chromedriver                        0x0000000100123603 chromedriver + 759299\n13  chromedriver                        0x00000001000f9990 chromedriver + 588176\n14  chromedriver                        0x00000001000faa75 chromedriver + 592501\n15  chromedriver                        0x00000001004886cd chromedriver + 4318925\n16  chromedriver                        0x000000010048cf35 chromedriver + 4337461\n17  chromedriver                        0x00000001004941ff chromedriver + 4366847\n18  chromedriver                        0x000000010048dc5a chromedriver + 4340826\n19  chromedriver                        0x0000000100463c2c chromedriver + 4168748\n20  chromedriver                        0x00000001004aa4f8 chromedriver + 4457720\n21  chromedriver                        0x00000001004aa693 chromedriver + 4458131\n22  chromedriver                        0x00000001004bfa3e chromedriver + 4545086\n23  libsystem_pthread.dylib             0x00007fff206108fc _pthread_start + 224\n24  libsystem_pthread.dylib             0x00007fff2060c443 thread_start + 15\n"
     ]
    }
   ],
   "source": [
    "%run twitter_block_searches submit01.py"
   ]
  },
  {
   "cell_type": "code",
   "execution_count": 98,
   "id": "21c38980-2c73-4752-8895-eabc1332115d",
   "metadata": {},
   "outputs": [
    {
     "name": "stderr",
     "output_type": "stream",
     "text": [
      "/var/folders/p7/100t12911tscxdj7kqv88b_h0000gn/T/ipykernel_25592/2095816354.py:36: DeprecationWarning: executable_path has been deprecated, please pass in a Service object\n",
      "  driver = webdriver.Chrome(ChromeDriverManager().install())\n"
     ]
    },
    {
     "name": "stdout",
     "output_type": "stream",
     "text": [
      "一つ目\n",
      "https://twitter.com/explore\n",
      "<selenium.webdriver.remote.webelement.WebElement (session=\"9e27376203d2c4285fe116a971800cae\", element=\"7a2cd5d3-cc51-4f66-87f6-fc6d9437499f\")>\n",
      "1回ブロックしました\n",
      "<selenium.webdriver.remote.webelement.WebElement (session=\"9e27376203d2c4285fe116a971800cae\", element=\"3467ebac-4653-4e78-883a-8d5183e62484\")>\n",
      "2回ブロックしました\n",
      "<selenium.webdriver.remote.webelement.WebElement (session=\"9e27376203d2c4285fe116a971800cae\", element=\"4260b023-bdb6-4395-b4f4-233eb880d7d4\")>\n",
      "3回ブロックしました\n",
      "<selenium.webdriver.remote.webelement.WebElement (session=\"9e27376203d2c4285fe116a971800cae\", element=\"e104a408-f191-4cb4-97a6-e2cfddb75d74\")>\n",
      "4回ブロックしました\n",
      "<selenium.webdriver.remote.webelement.WebElement (session=\"9e27376203d2c4285fe116a971800cae\", element=\"8c65074a-ee2a-4e66-9e7a-43e4e75a61bf\")>\n",
      "5回ブロックしました\n",
      "<selenium.webdriver.remote.webelement.WebElement (session=\"9e27376203d2c4285fe116a971800cae\", element=\"859cd21f-5ce3-4224-a707-571c439373a1\")>\n",
      "6回ブロックしました\n",
      "ツイートなし\n",
      "二つ目\n",
      "https://twitter.com/explore\n"
     ]
    },
    {
     "ename": "ElementNotInteractableException",
     "evalue": "Message: element not interactable\n  (Session info: chrome=105.0.5195.125)\nStacktrace:\n0   chromedriver                        0x000000010936c788 chromedriver + 4515720\n1   chromedriver                        0x00000001092f09d3 chromedriver + 4008403\n2   chromedriver                        0x0000000108f82feb chromedriver + 413675\n3   chromedriver                        0x0000000108fb4a1f chromedriver + 616991\n4   chromedriver                        0x0000000108fb3fd8 chromedriver + 614360\n5   chromedriver                        0x0000000108fd77d2 chromedriver + 759762\n6   chromedriver                        0x0000000108faf075 chromedriver + 594037\n7   chromedriver                        0x0000000108fd792e chromedriver + 760110\n8   chromedriver                        0x0000000108feabd9 chromedriver + 838617\n9   chromedriver                        0x0000000108fd7603 chromedriver + 759299\n10  chromedriver                        0x0000000108fad990 chromedriver + 588176\n11  chromedriver                        0x0000000108faea75 chromedriver + 592501\n12  chromedriver                        0x000000010933c6cd chromedriver + 4318925\n13  chromedriver                        0x0000000109340f35 chromedriver + 4337461\n14  chromedriver                        0x00000001093481ff chromedriver + 4366847\n15  chromedriver                        0x0000000109341c5a chromedriver + 4340826\n16  chromedriver                        0x0000000109317c2c chromedriver + 4168748\n17  chromedriver                        0x000000010935e4f8 chromedriver + 4457720\n18  chromedriver                        0x000000010935e693 chromedriver + 4458131\n19  chromedriver                        0x0000000109373a3e chromedriver + 4545086\n20  libsystem_pthread.dylib             0x00007fff206108fc _pthread_start + 224\n21  libsystem_pthread.dylib             0x00007fff2060c443 thread_start + 15\n",
     "output_type": "error",
     "traceback": [
      "\u001b[0;31m---------------------------------------------------------------------------\u001b[0m",
      "\u001b[0;31mElementNotInteractableException\u001b[0m           Traceback (most recent call last)",
      "Input \u001b[0;32mIn [98]\u001b[0m, in \u001b[0;36m<cell line: 73>\u001b[0;34m()\u001b[0m\n\u001b[1;32m    141\u001b[0m \u001b[38;5;66;03m# search_input = driver.find_element_by_xpath(\"/html/body/div[1]/div/div/div[2]/main/div/div/div/div/div/div[1]/div[1]/div/div/div/div/div[2]/div[2]/div/div/div/form/div[1]/div/div/label/div[2]/div/input\")\u001b[39;00m\n\u001b[1;32m    142\u001b[0m search_input \u001b[38;5;241m=\u001b[39m driver\u001b[38;5;241m.\u001b[39mfind_element(By\u001b[38;5;241m.\u001b[39mXPATH,\u001b[38;5;124m\"\u001b[39m\u001b[38;5;124m/html/body/div[1]/div/div/div[2]/main/div/div/div/div/div/div[1]/div[1]/div[1]/div/div/div/div/div[2]/div[2]/div/div/div/form/div[1]/div/div/div/label/div[2]/div/input\u001b[39m\u001b[38;5;124m\"\u001b[39m)\n\u001b[0;32m--> 143\u001b[0m \u001b[43msearch_input\u001b[49m\u001b[38;5;241;43m.\u001b[39;49m\u001b[43msend_keys\u001b[49m\u001b[43m(\u001b[49m\u001b[43mkeys\u001b[49m\u001b[38;5;241;43m.\u001b[39;49m\u001b[43mENTER\u001b[49m\u001b[43m)\u001b[49m\n",
      "File \u001b[0;32m~/.pyenv/versions/3.10.0/lib/python3.10/site-packages/selenium/webdriver/remote/webelement.py:540\u001b[0m, in \u001b[0;36mWebElement.send_keys\u001b[0;34m(self, *value)\u001b[0m\n\u001b[1;32m    537\u001b[0m             remote_files\u001b[38;5;241m.\u001b[39mappend(\u001b[38;5;28mself\u001b[39m\u001b[38;5;241m.\u001b[39m_upload(file))\n\u001b[1;32m    538\u001b[0m         value \u001b[38;5;241m=\u001b[39m \u001b[38;5;124m'\u001b[39m\u001b[38;5;130;01m\\n\u001b[39;00m\u001b[38;5;124m'\u001b[39m\u001b[38;5;241m.\u001b[39mjoin(remote_files)\n\u001b[0;32m--> 540\u001b[0m \u001b[38;5;28;43mself\u001b[39;49m\u001b[38;5;241;43m.\u001b[39;49m\u001b[43m_execute\u001b[49m\u001b[43m(\u001b[49m\u001b[43mCommand\u001b[49m\u001b[38;5;241;43m.\u001b[39;49m\u001b[43mSEND_KEYS_TO_ELEMENT\u001b[49m\u001b[43m,\u001b[49m\n\u001b[1;32m    541\u001b[0m \u001b[43m              \u001b[49m\u001b[43m{\u001b[49m\u001b[38;5;124;43m'\u001b[39;49m\u001b[38;5;124;43mtext\u001b[39;49m\u001b[38;5;124;43m'\u001b[39;49m\u001b[43m:\u001b[49m\u001b[43m \u001b[49m\u001b[38;5;124;43m\"\u001b[39;49m\u001b[38;5;124;43m\"\u001b[39;49m\u001b[38;5;241;43m.\u001b[39;49m\u001b[43mjoin\u001b[49m\u001b[43m(\u001b[49m\u001b[43mkeys_to_typing\u001b[49m\u001b[43m(\u001b[49m\u001b[43mvalue\u001b[49m\u001b[43m)\u001b[49m\u001b[43m)\u001b[49m\u001b[43m,\u001b[49m\n\u001b[1;32m    542\u001b[0m \u001b[43m               \u001b[49m\u001b[38;5;124;43m'\u001b[39;49m\u001b[38;5;124;43mvalue\u001b[39;49m\u001b[38;5;124;43m'\u001b[39;49m\u001b[43m:\u001b[49m\u001b[43m \u001b[49m\u001b[43mkeys_to_typing\u001b[49m\u001b[43m(\u001b[49m\u001b[43mvalue\u001b[49m\u001b[43m)\u001b[49m\u001b[43m}\u001b[49m\u001b[43m)\u001b[49m\n",
      "File \u001b[0;32m~/.pyenv/versions/3.10.0/lib/python3.10/site-packages/selenium/webdriver/remote/webelement.py:710\u001b[0m, in \u001b[0;36mWebElement._execute\u001b[0;34m(self, command, params)\u001b[0m\n\u001b[1;32m    708\u001b[0m     params \u001b[38;5;241m=\u001b[39m {}\n\u001b[1;32m    709\u001b[0m params[\u001b[38;5;124m'\u001b[39m\u001b[38;5;124mid\u001b[39m\u001b[38;5;124m'\u001b[39m] \u001b[38;5;241m=\u001b[39m \u001b[38;5;28mself\u001b[39m\u001b[38;5;241m.\u001b[39m_id\n\u001b[0;32m--> 710\u001b[0m \u001b[38;5;28;01mreturn\u001b[39;00m \u001b[38;5;28;43mself\u001b[39;49m\u001b[38;5;241;43m.\u001b[39;49m\u001b[43m_parent\u001b[49m\u001b[38;5;241;43m.\u001b[39;49m\u001b[43mexecute\u001b[49m\u001b[43m(\u001b[49m\u001b[43mcommand\u001b[49m\u001b[43m,\u001b[49m\u001b[43m \u001b[49m\u001b[43mparams\u001b[49m\u001b[43m)\u001b[49m\n",
      "File \u001b[0;32m~/.pyenv/versions/3.10.0/lib/python3.10/site-packages/selenium/webdriver/remote/webdriver.py:424\u001b[0m, in \u001b[0;36mWebDriver.execute\u001b[0;34m(self, driver_command, params)\u001b[0m\n\u001b[1;32m    422\u001b[0m response \u001b[38;5;241m=\u001b[39m \u001b[38;5;28mself\u001b[39m\u001b[38;5;241m.\u001b[39mcommand_executor\u001b[38;5;241m.\u001b[39mexecute(driver_command, params)\n\u001b[1;32m    423\u001b[0m \u001b[38;5;28;01mif\u001b[39;00m response:\n\u001b[0;32m--> 424\u001b[0m     \u001b[38;5;28;43mself\u001b[39;49m\u001b[38;5;241;43m.\u001b[39;49m\u001b[43merror_handler\u001b[49m\u001b[38;5;241;43m.\u001b[39;49m\u001b[43mcheck_response\u001b[49m\u001b[43m(\u001b[49m\u001b[43mresponse\u001b[49m\u001b[43m)\u001b[49m\n\u001b[1;32m    425\u001b[0m     response[\u001b[38;5;124m'\u001b[39m\u001b[38;5;124mvalue\u001b[39m\u001b[38;5;124m'\u001b[39m] \u001b[38;5;241m=\u001b[39m \u001b[38;5;28mself\u001b[39m\u001b[38;5;241m.\u001b[39m_unwrap_value(\n\u001b[1;32m    426\u001b[0m         response\u001b[38;5;241m.\u001b[39mget(\u001b[38;5;124m'\u001b[39m\u001b[38;5;124mvalue\u001b[39m\u001b[38;5;124m'\u001b[39m, \u001b[38;5;28;01mNone\u001b[39;00m))\n\u001b[1;32m    427\u001b[0m     \u001b[38;5;28;01mreturn\u001b[39;00m response\n",
      "File \u001b[0;32m~/.pyenv/versions/3.10.0/lib/python3.10/site-packages/selenium/webdriver/remote/errorhandler.py:247\u001b[0m, in \u001b[0;36mErrorHandler.check_response\u001b[0;34m(self, response)\u001b[0m\n\u001b[1;32m    245\u001b[0m         alert_text \u001b[38;5;241m=\u001b[39m value[\u001b[38;5;124m'\u001b[39m\u001b[38;5;124malert\u001b[39m\u001b[38;5;124m'\u001b[39m]\u001b[38;5;241m.\u001b[39mget(\u001b[38;5;124m'\u001b[39m\u001b[38;5;124mtext\u001b[39m\u001b[38;5;124m'\u001b[39m)\n\u001b[1;32m    246\u001b[0m     \u001b[38;5;28;01mraise\u001b[39;00m exception_class(message, screen, stacktrace, alert_text)  \u001b[38;5;66;03m# type: ignore[call-arg]  # mypy is not smart enough here\u001b[39;00m\n\u001b[0;32m--> 247\u001b[0m \u001b[38;5;28;01mraise\u001b[39;00m exception_class(message, screen, stacktrace)\n",
      "\u001b[0;31mElementNotInteractableException\u001b[0m: Message: element not interactable\n  (Session info: chrome=105.0.5195.125)\nStacktrace:\n0   chromedriver                        0x000000010936c788 chromedriver + 4515720\n1   chromedriver                        0x00000001092f09d3 chromedriver + 4008403\n2   chromedriver                        0x0000000108f82feb chromedriver + 413675\n3   chromedriver                        0x0000000108fb4a1f chromedriver + 616991\n4   chromedriver                        0x0000000108fb3fd8 chromedriver + 614360\n5   chromedriver                        0x0000000108fd77d2 chromedriver + 759762\n6   chromedriver                        0x0000000108faf075 chromedriver + 594037\n7   chromedriver                        0x0000000108fd792e chromedriver + 760110\n8   chromedriver                        0x0000000108feabd9 chromedriver + 838617\n9   chromedriver                        0x0000000108fd7603 chromedriver + 759299\n10  chromedriver                        0x0000000108fad990 chromedriver + 588176\n11  chromedriver                        0x0000000108faea75 chromedriver + 592501\n12  chromedriver                        0x000000010933c6cd chromedriver + 4318925\n13  chromedriver                        0x0000000109340f35 chromedriver + 4337461\n14  chromedriver                        0x00000001093481ff chromedriver + 4366847\n15  chromedriver                        0x0000000109341c5a chromedriver + 4340826\n16  chromedriver                        0x0000000109317c2c chromedriver + 4168748\n17  chromedriver                        0x000000010935e4f8 chromedriver + 4457720\n18  chromedriver                        0x000000010935e693 chromedriver + 4458131\n19  chromedriver                        0x0000000109373a3e chromedriver + 4545086\n20  libsystem_pthread.dylib             0x00007fff206108fc _pthread_start + 224\n21  libsystem_pthread.dylib             0x00007fff2060c443 thread_start + 15\n"
     ]
    }
   ],
   "source": [
    "# coding:utf-8\n",
    "# 修正 8:52\n",
    "\n",
    "from selenium import webdriver\n",
    "from selenium.webdriver.chrome.options import Options\n",
    "\n",
    "# webdriverのバージョン管理 webdriverマネージャー及びByのインストール　1\n",
    "from webdriver_manager.chrome import ChromeDriverManager\n",
    "from selenium.webdriver.common.by import By\n",
    "\n",
    "\n",
    "import time\n",
    "import requests\n",
    "import chromedriver_binary       \n",
    "from selenium.webdriver.common.keys import Keys as keys\n",
    "import random\n",
    "\n",
    "id=\"session08\"\n",
    "password=\"session09\"\n",
    "search_keys=[\"一つ目\",\"二つ目\",\"検索ワード三つ目\",\"・・・\"] #検索ワードを入力してください\n",
    "\n",
    "\n",
    "options = webdriver.ChromeOptions()\n",
    "# options.add_argument('--headless')    # ヘッドレスモードに\n",
    "options.add_argument('--no-sandbox')\n",
    "options.add_argument('--disable-gpu')\n",
    "options.add_argument(\"-window-size=1920,1080\")\n",
    "options.add_argument('--lang=ja-JP')\n",
    "options.add_argument(\"--start-maximized\")\n",
    "UA = 'Mozilla/5.0 (Macintosh; Intel Mac OS X 10_14_5) AppleWebKit/605.1.15 (KHTML, like Gecko)'\n",
    "\n",
    "options.add_argument('--user-agent=' + UA)\n",
    "#driver = webdriver.Chrome('chromedriver')\n",
    "\n",
    "# webdriverマネージャーのインストール\n",
    "driver = webdriver.Chrome(ChromeDriverManager().install())\n",
    "\n",
    "# driver = webdriver.Chrome(options=options)\n",
    "driver.implicitly_wait(10)\n",
    "driver.maximize_window()\n",
    "\n",
    "url = \"https://twitter.com/i/flow/login\"\n",
    "\n",
    "#id入力\n",
    "driver.get(url)\n",
    "# a = driver.find_elements_by_name(\"text\")\n",
    "a = driver.find_elements(By.NAME,\"text\")\n",
    "a[0].send_keys(id)\n",
    "a[0].send_keys(keys.ENTER)\n",
    "\n",
    "#password入力\n",
    "# a = driver.find_elements_by_name(\"password\")\n",
    "a = driver.find_elements(By.NAME,\"password\")\n",
    "a[0].send_keys(password)\n",
    "a[0].send_keys(keys.ENTER)\n",
    "time.sleep(5)\n",
    "\n",
    "# PATH\n",
    "search_PATH = \"/html/body/div[1]/div/div/div[2]/header/div/div/div/div[1]/div[2]/nav/a[2]\"\n",
    "texBox_PATH = \"/html/body/div[1]/div/div/div[2]/main/div/div/div/div/div/div[1]/div[1]/div[1]/div/div/div/div/div[1]/div[2]/div/div/div/form/div[1]/div/div/div/label/div[2]/div/input\"\n",
    "latest_tag_PATH = \"/html/body/div[1]/div/div/div[2]/main/div/div/div/div/div/div[1]/div[1]/div[2]/nav/div/div[2]/div/div[2]/a\"\n",
    "\n",
    "#検索ボタンクリック\n",
    "# a = driver.find_element_by_xpath(\"/html/body/div[1]/div/div/div[2]/header/div/div/div/div[1]/div[2]/nav/a[2]\")\n",
    "\n",
    "a = driver.find_element(By.XPATH,search_PATH)\n",
    "\n",
    "\n",
    "a.click()\n",
    "\n",
    "time.sleep(4)\n",
    "\n",
    "for j in range(len(search_keys)):\n",
    "    if j!=0:\n",
    "        driver.get(\"https://twitter.com/explore\")\n",
    "\n",
    "\n",
    "    search_key=search_keys[j]\n",
    "    print(search_key)\n",
    "    print(driver.current_url)\n",
    "\n",
    "    #search_keyで検索\n",
    "    # a = driver.find_element_by_xpath(\"/html/body/div[1]/div/div/div[2]/main/div/div/div/div/div/div[1]/div[1]/div/div/div/div/div[1]/div[2]/div/div/div/form/div[1]/div/div/label/div[2]/div/input\")\n",
    "    a = driver.find_element(By.XPATH,texBox_PATH)  \n",
    "    \n",
    "    \n",
    "    # if len(a)==0:\n",
    "    #     a = driver.find_elements_by_xpath(\"/html/body/div[1]/div/div/div[2]/main/div/div/div/div/div/div[1]/div[1]/div/div/div/div/div[2]/div[2]/div/div/div/form/div[1]/div/div/label/div[2]/div/input\")\n",
    "    a.clear()\n",
    "    time.sleep(2)\n",
    "    a.send_keys(search_key)\n",
    "    a.send_keys(keys.ENTER)\n",
    "\n",
    "    time.sleep(4)\n",
    "\n",
    "    #最新ツイートボタン押す\n",
    "    # a = driver.find_element_by_xpath(\"/html/body/div[1]/div/div/div[2]/main/div/div/div/div/div/div[1]/div[1]/div[2]/nav/div/div[2]/div/div[2]/a\")\n",
    "    a = driver.find_element(By.XPATH,latest_tag_PATH)\n",
    "    a.click()\n",
    "\n",
    "    time.sleep(4)\n",
    "\n",
    "\n",
    "\n",
    "\n",
    "    count=0\n",
    "\n",
    "    while True:\n",
    "        #ツイートを取得\n",
    "        # a = driver.find_elements_by_xpath(\"/html/body/div[1]/div/div/div[2]/main/div/div/div/div/div/div[2]/div/section/div/div/div\")\n",
    "        a = driver.find_elements(By.XPATH,\"/html/body/div[1]/div/div/div[2]/main/div/div/div/div/div/div[2]/div/section/div/div/div\")\n",
    "        if len(a)==0:\n",
    "            print(\"ツイートなし\")\n",
    "            break\n",
    "\n",
    "        for i in range(1,len(a)+1):\n",
    "            x_path = \"/html/body/div[1]/div/div/div[2]/main/div/div/div/div/div/div[2]/div/section/div/div/div[\"+str(i)+\"]/div/div/div/article/div/div/div/div[2]/div[2]/div[1]/div/div/div[2]/div/div/div/div/div[1]/div/div\"\n",
    "            # detail_button = driver.find_elements_by_xpath(x_path)\n",
    "            detail_button = driver.find_elements(By.XPATH,x_path)\n",
    "            if len(detail_button)==0:\n",
    "                continue\n",
    "            driver.execute_script(\"arguments[0].click();\",detail_button[0])\n",
    "            time.sleep(1)\n",
    "\n",
    "            block_button = driver.find_elements(By.XPATH,\"/html/body/div[1]/div/div/div[1]/div[2]/div/div/div/div[2]/div/div[3]/div/div/div/div\")\n",
    "            if len(block_button)==3:#ブロックしている時\n",
    "                continue\n",
    "            elif len(block_button)==5:\n",
    "                print(block_button[2])\n",
    "                block_button[2].click()\n",
    "            else:\n",
    "                continue\n",
    "            time.sleep(1)\n",
    "\n",
    "            block = driver.find_element(By.XPATH,\"/html/body/div[1]/div/div/div[1]/div[2]/div/div/div/div/div/div[2]/div[2]/div[2]/div[1]\")\n",
    "            block.click()\n",
    "            count=count+1\n",
    "            print(str(count)+\"回ブロックしました\")\n",
    "            time.sleep(1)\n",
    "        \n",
    "        # search_input = driver.find_element_by_xpath(\"/html/body/div[1]/div/div/div[2]/main/div/div/div/div/div/div[1]/div[1]/div/div/div/div/div[2]/div[2]/div/div/div/form/div[1]/div/div/label/div[2]/div/input\")\n",
    "        search_input = driver.find_element(By.XPATH,\"/html/body/div[1]/div/div/div[2]/main/div/div/div/div/div/div[1]/div[1]/div[1]/div/div/div/div/div[2]/div[2]/div/div/div/form/div[1]/div/div/div/label/div[2]/div/input\")\n",
    "        search_input.send_keys(keys.ENTER)"
   ]
  },
  {
   "cell_type": "code",
   "execution_count": 100,
   "id": "ee23645e-0648-4b66-8f48-182421d0384f",
   "metadata": {},
   "outputs": [
    {
     "name": "stderr",
     "output_type": "stream",
     "text": [
      "/Users/taniguchiyuujin/Desktop/sidejob/twitter_block_searches.py:35: DeprecationWarning: executable_path has been deprecated, please pass in a Service object\n",
      "  driver = webdriver.Chrome(ChromeDriverManager().install())\n"
     ]
    },
    {
     "name": "stdout",
     "output_type": "stream",
     "text": [
      "一つ目\n",
      "https://twitter.com/explore\n",
      "Unexpected exception formatting exception. Falling back to standard exception\n"
     ]
    },
    {
     "name": "stderr",
     "output_type": "stream",
     "text": [
      "Traceback (most recent call last):\n",
      "  File \"/Users/taniguchiyuujin/.pyenv/versions/3.10.0/lib/python3.10/site-packages/IPython/core/interactiveshell.py\", line 2738, in safe_execfile\n",
      "    py3compat.execfile(\n",
      "  File \"/Users/taniguchiyuujin/.pyenv/versions/3.10.0/lib/python3.10/site-packages/IPython/utils/py3compat.py\", line 55, in execfile\n",
      "    exec(compiler(f.read(), fname, \"exec\"), glob, loc)\n",
      "  File \"/Users/taniguchiyuujin/Desktop/sidejob/twitter_block_searches.py\", line 124, in <module>\n",
      "    block = driver.find_element(By.XPATH,)\n",
      "  File \"/Users/taniguchiyuujin/.pyenv/versions/3.10.0/lib/python3.10/site-packages/selenium/webdriver/remote/webdriver.py\", line 1244, in find_element\n",
      "    return self.execute(Command.FIND_ELEMENT, {\n",
      "  File \"/Users/taniguchiyuujin/.pyenv/versions/3.10.0/lib/python3.10/site-packages/selenium/webdriver/remote/webdriver.py\", line 424, in execute\n",
      "    self.error_handler.check_response(response)\n",
      "  File \"/Users/taniguchiyuujin/.pyenv/versions/3.10.0/lib/python3.10/site-packages/selenium/webdriver/remote/errorhandler.py\", line 247, in check_response\n",
      "    raise exception_class(message, screen, stacktrace)\n",
      "selenium.common.exceptions.InvalidArgumentException: Message: invalid argument: 'value' must be a string\n",
      "  (Session info: chrome=105.0.5195.125)\n",
      "Stacktrace:\n",
      "0   chromedriver                        0x000000010169e788 chromedriver + 4515720\n",
      "1   chromedriver                        0x00000001016229d3 chromedriver + 4008403\n",
      "2   chromedriver                        0x00000001012b512a chromedriver + 413994\n",
      "3   chromedriver                        0x00000001012ec2a5 chromedriver + 639653\n",
      "4   chromedriver                        0x00000001012eca61 chromedriver + 641633\n",
      "5   chromedriver                        0x000000010131ef64 chromedriver + 847716\n",
      "6   chromedriver                        0x00000001013097fd chromedriver + 759805\n",
      "7   chromedriver                        0x000000010131cbd9 chromedriver + 838617\n",
      "8   chromedriver                        0x0000000101309603 chromedriver + 759299\n",
      "9   chromedriver                        0x00000001012df990 chromedriver + 588176\n",
      "10  chromedriver                        0x00000001012e0a75 chromedriver + 592501\n",
      "11  chromedriver                        0x000000010166e6cd chromedriver + 4318925\n",
      "12  chromedriver                        0x0000000101672f35 chromedriver + 4337461\n",
      "13  chromedriver                        0x000000010167a1ff chromedriver + 4366847\n",
      "14  chromedriver                        0x0000000101673c5a chromedriver + 4340826\n",
      "15  chromedriver                        0x0000000101649c2c chromedriver + 4168748\n",
      "16  chromedriver                        0x00000001016904f8 chromedriver + 4457720\n",
      "17  chromedriver                        0x0000000101690693 chromedriver + 4458131\n",
      "18  chromedriver                        0x00000001016a5a3e chromedriver + 4545086\n",
      "19  libsystem_pthread.dylib             0x00007fff206108fc _pthread_start + 224\n",
      "20  libsystem_pthread.dylib             0x00007fff2060c443 thread_start + 15\n",
      "\n",
      "\n",
      "During handling of the above exception, another exception occurred:\n",
      "\n",
      "Traceback (most recent call last):\n",
      "  File \"/Users/taniguchiyuujin/.pyenv/versions/3.10.0/lib/python3.10/site-packages/IPython/core/interactiveshell.py\", line 1993, in showtraceback\n",
      "    stb = self.InteractiveTB.structured_traceback(\n",
      "  File \"/Users/taniguchiyuujin/.pyenv/versions/3.10.0/lib/python3.10/site-packages/IPython/core/ultratb.py\", line 1118, in structured_traceback\n",
      "    return FormattedTB.structured_traceback(\n",
      "  File \"/Users/taniguchiyuujin/.pyenv/versions/3.10.0/lib/python3.10/site-packages/IPython/core/ultratb.py\", line 1012, in structured_traceback\n",
      "    return VerboseTB.structured_traceback(\n",
      "  File \"/Users/taniguchiyuujin/.pyenv/versions/3.10.0/lib/python3.10/site-packages/IPython/core/ultratb.py\", line 865, in structured_traceback\n",
      "    formatted_exception = self.format_exception_as_a_whole(etype, evalue, etb, number_of_lines_of_context,\n",
      "  File \"/Users/taniguchiyuujin/.pyenv/versions/3.10.0/lib/python3.10/site-packages/IPython/core/ultratb.py\", line 818, in format_exception_as_a_whole\n",
      "    frames.append(self.format_record(r))\n",
      "  File \"/Users/taniguchiyuujin/.pyenv/versions/3.10.0/lib/python3.10/site-packages/IPython/core/ultratb.py\", line 736, in format_record\n",
      "    result += ''.join(_format_traceback_lines(frame_info.lines, Colors, self.has_colors, lvals))\n",
      "  File \"/Users/taniguchiyuujin/.pyenv/versions/3.10.0/lib/python3.10/site-packages/stack_data/utils.py\", line 145, in cached_property_wrapper\n",
      "    value = obj.__dict__[self.func.__name__] = self.func(obj)\n",
      "  File \"/Users/taniguchiyuujin/.pyenv/versions/3.10.0/lib/python3.10/site-packages/stack_data/core.py\", line 699, in lines\n",
      "    pieces = self.included_pieces\n",
      "  File \"/Users/taniguchiyuujin/.pyenv/versions/3.10.0/lib/python3.10/site-packages/stack_data/utils.py\", line 145, in cached_property_wrapper\n",
      "    value = obj.__dict__[self.func.__name__] = self.func(obj)\n",
      "  File \"/Users/taniguchiyuujin/.pyenv/versions/3.10.0/lib/python3.10/site-packages/stack_data/core.py\", line 647, in included_pieces\n",
      "    pos = scope_pieces.index(self.executing_piece)\n",
      "  File \"/Users/taniguchiyuujin/.pyenv/versions/3.10.0/lib/python3.10/site-packages/stack_data/utils.py\", line 145, in cached_property_wrapper\n",
      "    value = obj.__dict__[self.func.__name__] = self.func(obj)\n",
      "  File \"/Users/taniguchiyuujin/.pyenv/versions/3.10.0/lib/python3.10/site-packages/stack_data/core.py\", line 626, in executing_piece\n",
      "    return only(\n",
      "  File \"/Users/taniguchiyuujin/.pyenv/versions/3.10.0/lib/python3.10/site-packages/executing/executing.py\", line 164, in only\n",
      "    raise NotOneValueFound('Expected one value, found 0')\n",
      "executing.executing.NotOneValueFound: Expected one value, found 0\n"
     ]
    }
   ],
   "source": [
    "%run twitter_block_searches.py"
   ]
  },
  {
   "cell_type": "code",
   "execution_count": null,
   "id": "9793dd85-f8f8-404b-b2b4-f41c9f48027a",
   "metadata": {},
   "outputs": [
    {
     "name": "stderr",
     "output_type": "stream",
     "text": [
      "/Users/taniguchiyuujin/Desktop/sidejob/twitter_block_searches.py:35: DeprecationWarning: executable_path has been deprecated, please pass in a Service object\n",
      "  driver = webdriver.Chrome(ChromeDriverManager().install())\n"
     ]
    },
    {
     "name": "stdout",
     "output_type": "stream",
     "text": [
      "一つ目\n",
      "https://twitter.com/explore\n",
      "1回ブロックしました\n",
      "2回ブロックしました\n",
      "3回ブロックしました\n",
      "4回ブロックしました\n",
      "ツイートなし\n",
      "二つ目\n",
      "https://twitter.com/explore\n"
     ]
    }
   ],
   "source": [
    "%run twitter_block_searches.py"
   ]
  },
  {
   "cell_type": "code",
   "execution_count": null,
   "id": "dae10c43-bfb2-4c99-bd4b-2e8f7dc91373",
   "metadata": {},
   "outputs": [],
   "source": []
  }
 ],
 "metadata": {
  "kernelspec": {
   "display_name": "Python 3 (ipykernel)",
   "language": "python",
   "name": "python3"
  },
  "language_info": {
   "codemirror_mode": {
    "name": "ipython",
    "version": 3
   },
   "file_extension": ".py",
   "mimetype": "text/x-python",
   "name": "python",
   "nbconvert_exporter": "python",
   "pygments_lexer": "ipython3",
   "version": "3.10.0"
  }
 },
 "nbformat": 4,
 "nbformat_minor": 5
}
